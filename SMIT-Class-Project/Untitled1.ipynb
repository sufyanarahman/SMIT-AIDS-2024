{
 "cells": [
  {
   "cell_type": "markdown",
   "id": "6de6fbc0-ddfa-4938-8110-22ac4844ec62",
   "metadata": {},
   "source": [
    "# -- Implementing Linear Regression On Real State Data To Predict House Prices --"
   ]
  },
  {
   "cell_type": "markdown",
   "id": "c0dc1149-8a5b-459c-845d-7da1d8790691",
   "metadata": {},
   "source": [
    "## Importing Necessary Libraries"
   ]
  },
  {
   "cell_type": "code",
   "execution_count": 1,
   "id": "0e541818-258c-49db-a6d1-da32ca290471",
   "metadata": {},
   "outputs": [],
   "source": [
    "import pandas as pd\n",
    "import numpy as np\n",
    "import seaborn as sns\n",
    "import matplotlib.pyplot as plt\n",
    "import sklearn as skl\n",
    "import joblib as jb"
   ]
  },
  {
   "cell_type": "code",
   "execution_count": null,
   "id": "2aec4f87-719a-415b-a0f7-64e9dfa24f92",
   "metadata": {},
   "outputs": [],
   "source": []
  }
 ],
 "metadata": {
  "kernelspec": {
   "display_name": "Python 3 (ipykernel)",
   "language": "python",
   "name": "python3"
  },
  "language_info": {
   "codemirror_mode": {
    "name": "ipython",
    "version": 3
   },
   "file_extension": ".py",
   "mimetype": "text/x-python",
   "name": "python",
   "nbconvert_exporter": "python",
   "pygments_lexer": "ipython3",
   "version": "3.12.7"
  }
 },
 "nbformat": 4,
 "nbformat_minor": 5
}
