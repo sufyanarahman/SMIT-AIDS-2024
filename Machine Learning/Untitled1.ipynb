{
 "cells": [
  {
   "cell_type": "code",
   "execution_count": null,
   "id": "a35651c9-ecf3-4eb3-afaf-adba17750094",
   "metadata": {},
   "outputs": [],
   "source": [
    "from pynput import keyboard\n",
    "\n",
    "def on_press(key):\n",
    "    try:\n",
    "        print('Key pressed: {0}'.format(key.char))\n",
    "    except AttributeError:\n",
    "        print('Special key pressed: {0}'.format(key))\n",
    "\n",
    "with keyboard.Listener(on_press=on_press) as listener:\n",
    "    listener.join()\n",
    "\n",
    "on_press()"
   ]
  },
  {
   "cell_type": "code",
   "execution_count": null,
   "id": "a4222e49-4b7b-4f10-90b4-7f2bf3d24356",
   "metadata": {},
   "outputs": [],
   "source": []
  }
 ],
 "metadata": {
  "kernelspec": {
   "display_name": "Python 3 (ipykernel)",
   "language": "python",
   "name": "python3"
  },
  "language_info": {
   "codemirror_mode": {
    "name": "ipython",
    "version": 3
   },
   "file_extension": ".py",
   "mimetype": "text/x-python",
   "name": "python",
   "nbconvert_exporter": "python",
   "pygments_lexer": "ipython3",
   "version": "3.12.7"
  }
 },
 "nbformat": 4,
 "nbformat_minor": 5
}
