{
 "cells": [
  {
   "cell_type": "markdown",
   "id": "245a4137-51e1-4c34-92ed-b18d2cccf917",
   "metadata": {},
   "source": [
    "# List Assignment"
   ]
  },
  {
   "cell_type": "markdown",
   "id": "734b1a68-e175-42fa-8c93-dc5a794aaac4",
   "metadata": {},
   "source": [
    "1. Write a program that accepts a list from user and print the alternate element of list."
   ]
  },
  {
   "cell_type": "code",
   "execution_count": 20,
   "id": "a123a49e-068a-4cec-be05-d1601f988980",
   "metadata": {},
   "outputs": [
    {
     "name": "stdin",
     "output_type": "stream",
     "text": [
      "Please provide a list of characters a,b,c,d,e,f,g,h,i,j,k\n"
     ]
    },
    {
     "name": "stdout",
     "output_type": "stream",
     "text": [
      "['a', 'c', 'e', 'g', 'i', 'k']\n"
     ]
    }
   ],
   "source": [
    "alist = input(\"Please provide a list of characters\").split(\",\")\n",
    "print(alist[::2])\n"
   ]
  },
  {
   "cell_type": "markdown",
   "id": "eb5c1411-82b5-47aa-b887-e4f710d2f1f8",
   "metadata": {},
   "source": [
    "2. Write a program that accepts a list from user. Your program should reverse the content of list and\n",
    "display it. Do not use reverse() method."
   ]
  },
  {
   "cell_type": "code",
   "execution_count": 39,
   "id": "639fa9f3-8c87-4205-8876-bec199249d4d",
   "metadata": {},
   "outputs": [
    {
     "name": "stdin",
     "output_type": "stream",
     "text": [
      "Please provide a list of characters hello,how,are,you\n"
     ]
    },
    {
     "name": "stdout",
     "output_type": "stream",
     "text": [
      "['you', 'are', 'how', 'hello']\n"
     ]
    }
   ],
   "source": [
    "user_input = input(\"Please provide a list of characters\").split(\",\")\n",
    "print(user_input[::-1])"
   ]
  },
  {
   "cell_type": "markdown",
   "id": "6ec0fae3-1f97-4151-8972-ab068d7a0f3c",
   "metadata": {},
   "source": [
    "3. Find and display the largest number of a list without using built-in function max(). Your program\n",
    "should ask the user to input values in list from keyboard."
   ]
  },
  {
   "cell_type": "code",
   "execution_count": 46,
   "id": "a68c142b-356e-4a66-bc13-6a1fde75ee38",
   "metadata": {},
   "outputs": [
    {
     "name": "stdin",
     "output_type": "stream",
     "text": [
      "Please enter three integers:  3435,2324,43534,23423\n"
     ]
    },
    {
     "name": "stdout",
     "output_type": "stream",
     "text": [
      "43534\n"
     ]
    }
   ],
   "source": [
    "def largest_int(integer_given):\n",
    "    largest_num = 0\n",
    "    for integer in integer_given: \n",
    "         num = int(integer)  # converting each value into int and storing in num variable\n",
    "         if num > largest_num: # checking if each value of list is greaterthan largest_num\n",
    "            largest_num = num # assigning largest int to largest number\n",
    "         else:\n",
    "            largest_num\n",
    "\n",
    "    return largest_num\n",
    "\n",
    "# using split to take multiple inputs from users with comma separator\n",
    "integers = input(\"Please enter three integers: \").split(\",\") \n",
    "largest = largest_int(integers)\n",
    "\n",
    "print(largest)"
   ]
  },
  {
   "cell_type": "markdown",
   "id": "949e6b0a-ca12-42e6-b854-a39659cf7de3",
   "metadata": {},
   "source": [
    "4. Write a program that rotates the element of a list so that the element at the first index moves to the\n",
    "second index, the element in the second index moves to the third index, etc., and the element in the last\n",
    "index moves to the first index."
   ]
  },
  {
   "cell_type": "code",
   "execution_count": 55,
   "id": "89f6265a-fd6e-4954-8085-2efed5b5e164",
   "metadata": {},
   "outputs": [
    {
     "name": "stdin",
     "output_type": "stream",
     "text": [
      "Please provide a list 1,2,3,4,5,6,7,8,9\n"
     ]
    },
    {
     "name": "stdout",
     "output_type": "stream",
     "text": [
      "[9, 1, 2, 3, 4, 5, 6, 7, 8]\n"
     ]
    }
   ],
   "source": [
    "def rotate_list(lst):\n",
    "  num_list = []\n",
    "  for a in lst:\n",
    "      num = int(a)\n",
    "      num_list.append(num)\n",
    "  last_element = num_list[-1]\n",
    "  for i in range(len(num_list) - 1, 0, -1):\n",
    "    num_list[i] = num_list[i - 1]\n",
    "  num_list[0] = last_element\n",
    "  return num_list\n",
    "\n",
    "my_list = input(\"Please provide a list\").split(\",\")\n",
    "rotated_list = rotate_list(my_list)\n",
    "print(rotated_list) "
   ]
  },
  {
   "cell_type": "markdown",
   "id": "c1c4401c-78f3-4fb2-83b6-e26c0b2a31ad",
   "metadata": {},
   "source": [
    "5. Write a program that input a string and ask user to delete a given word from a string."
   ]
  },
  {
   "cell_type": "code",
   "execution_count": 18,
   "id": "413098bd-c1de-472b-8060-b3e76054588e",
   "metadata": {},
   "outputs": [
    {
     "name": "stdin",
     "output_type": "stream",
     "text": [
      "Enter a string:  what scenes now haN?\n",
      "Enter a word to delete:  now\n"
     ]
    },
    {
     "name": "stdout",
     "output_type": "stream",
     "text": [
      "String after deletion: what scenes haN?\n"
     ]
    }
   ],
   "source": [
    "text = input('Enter a string: ').split()\n",
    "\n",
    "data = input('Enter a word to delete: ')\n",
    "status = False\n",
    "\n",
    "for word in text:\n",
    "    if word == data:\n",
    "        text.remove(word)\n",
    "        status = True\n",
    "\n",
    "if status:\n",
    "    text = ' '.join(text)\n",
    "    print('String after deletion:',text)\n",
    "else:\n",
    "    print('Word not present in string.')\n",
    "\n"
   ]
  },
  {
   "cell_type": "markdown",
   "id": "60154d7f-923a-4f15-a788-f599d6437d67",
   "metadata": {},
   "source": [
    "6. Write a program that reads a string from the user containing a date in the form mm/dd/yyyy. It\n",
    "should print the date in the form March 12, 2021."
   ]
  },
  {
   "cell_type": "code",
   "execution_count": 6,
   "id": "d1f8200f-8422-4f98-9d92-f462228fec7b",
   "metadata": {},
   "outputs": [
    {
     "name": "stdin",
     "output_type": "stream",
     "text": [
      "Enter a date in mm/dd/yyyy format:  12/2/2024\n"
     ]
    },
    {
     "name": "stdout",
     "output_type": "stream",
     "text": [
      "Formatted Date: December 02, 2024\n"
     ]
    }
   ],
   "source": [
    "import datetime\n",
    "\n",
    "date_input = input(\"Enter a date in mm/dd/yyyy format: \")\n",
    "date_obj = datetime.datetime.strptime(date_input, \"%m/%d/%Y\")\n",
    "formatted_date = date_obj.strftime(\"%B %d, %Y\")\n",
    "print(\"Formatted Date:\", formatted_date)\n"
   ]
  },
  {
   "cell_type": "markdown",
   "id": "63de0a25-baa9-482c-bcb1-6f765bd6ab78",
   "metadata": {},
   "source": [
    "7. Write a program with a function that accepts a string from keyboard and create a new string after\n",
    "converting character of each word capitalized. For instance, if the sentence is \"stop and smell the roses.\"\n",
    "the output should be \"Stop And Smell The Roses\" "
   ]
  },
  {
   "cell_type": "code",
   "execution_count": 1,
   "id": "feee259c-15d0-4003-bad8-d737dec73858",
   "metadata": {},
   "outputs": [
    {
     "name": "stdin",
     "output_type": "stream",
     "text": [
      "Please provide any sentence:  hey how are you\n"
     ]
    },
    {
     "name": "stdout",
     "output_type": "stream",
     "text": [
      "Hey How Are You\n"
     ]
    }
   ],
   "source": [
    "def title_word(sentence):\n",
    "    titled = sentence.title()\n",
    "    return titled\n",
    "\n",
    "text = input(\"Please provide any sentence: \")\n",
    "new_str = title_word(text)\n",
    "print(new_str)"
   ]
  },
  {
   "cell_type": "markdown",
   "id": "b3a6c76d-8341-443a-a8ff-33d8f82b7f4f",
   "metadata": {},
   "source": [
    "8. Find the sum of each row of matrix of size m x n. For example for the following matrix output will be\n",
    "like this :\n",
    "\n",
    "2  11  7  12\n",
    "5  2   9  15\n",
    "8  3  10  42\n",
    "\n",
    "Sum of row 1 = 32\n",
    "Sum of row 2 = 31\n",
    "Sum of row 3 = 63 \n"
   ]
  },
  {
   "cell_type": "code",
   "execution_count": 17,
   "id": "839c8912-4f34-4ba1-96d5-8cb70d284846",
   "metadata": {},
   "outputs": [
    {
     "name": "stdout",
     "output_type": "stream",
     "text": [
      "Sum of row 1 = 32\n",
      "Sum of row 2 = 31\n",
      "Sum of row 3 = 63\n"
     ]
    }
   ],
   "source": [
    "# creating a function to calculate the sum of each row of a matrix\n",
    "def sum_of_rows(matrix):\n",
    "    for i, row in enumerate(matrix):\n",
    "        row_sum = sum(row)  # Sum of elements in the row\n",
    "        print(f\"Sum of row {i + 1} = {row_sum}\")\n",
    "\n",
    "matrix = [\n",
    "    [2, 11, 7, 12],\n",
    "    [5, 2, 9, 15],\n",
    "    [8, 3, 10, 42]\n",
    "]\n",
    "\n",
    "sum_of_rows(matrix)\n"
   ]
  },
  {
   "cell_type": "markdown",
   "id": "7d6b2283-492d-45c7-92ef-40b61c392c5f",
   "metadata": {},
   "source": [
    "9. Write a program to add two matrices of size n x m. "
   ]
  },
  {
   "cell_type": "code",
   "execution_count": 20,
   "id": "2aba557e-009a-4800-b446-4ecccb0e219b",
   "metadata": {},
   "outputs": [
    {
     "name": "stdout",
     "output_type": "stream",
     "text": [
      "Resultant Matrix:\n",
      "[3, 3, 7]\n",
      "[9, 11, 13]\n",
      "[15, 17, 19]\n"
     ]
    }
   ],
   "source": [
    "# creating a function to add two matrices\n",
    "def add_matrices(matrix1, matrix2):\n",
    "    # Checking if the dimensions of both matrices are the same\n",
    "    if len(matrix1) != len(matrix2) or len(matrix1[0]) != len(matrix2[0]):\n",
    "        print(\"Matrices dimensions do not match!\")\n",
    "        return None\n",
    "\n",
    "    # Initialize an empty matrix to store the result\n",
    "    result_matrix = []\n",
    "\n",
    "    # Iterating through each row and column to add corresponding elements\n",
    "    for i in range(len(matrix1)):\n",
    "        row = []\n",
    "        for j in range(len(matrix1[0])):\n",
    "            row.append(matrix1[i][j] + matrix2[i][j])\n",
    "        result_matrix.append(row)\n",
    "\n",
    "    return result_matrix\n",
    ")\n",
    "matrix1 = [\n",
    "    [2, 3, 4],\n",
    "    [5, 6, 7],\n",
    "    [8, 9, 10]\n",
    "]\n",
    "\n",
    "matrix2 = [\n",
    "    [1, 0, 3],\n",
    "    [4, 5, 6],\n",
    "    [7, 8, 9]\n",
    "]\n",
    "\n",
    "result = add_matrices(matrix1, matrix2)\n",
    "\n",
    "if result:\n",
    "    print(\"Resultant Matrix:\")\n",
    "    for row in result:\n",
    "        print(row)\n"
   ]
  },
  {
   "cell_type": "markdown",
   "id": "6e14ff34-a446-4936-839a-7f85a0d6a4b4",
   "metadata": {},
   "source": [
    "10. Write a program to multiply two matrices "
   ]
  },
  {
   "cell_type": "code",
   "execution_count": 25,
   "id": "cb61a272-5c89-4167-a175-ea280b94019a",
   "metadata": {},
   "outputs": [
    {
     "name": "stdout",
     "output_type": "stream",
     "text": [
      "Resultant Matrix:\n",
      "[2, 0, 12]\n",
      "[20, 30, 42]\n",
      "[56, 72, 90]\n"
     ]
    }
   ],
   "source": [
    "# creating a function to add two matrices\n",
    "def add_matrices(matrix1, matrix2):\n",
    "    # Initializing an empty matrix to store the result\n",
    "    result_matrix = []\n",
    "\n",
    "    # Iterating through each row and column to multiply corresponding elements\n",
    "    for i in range(len(matrix1)):\n",
    "        row = []\n",
    "        for j in range(len(matrix1[0])):\n",
    "            row.append(matrix1[i][j] * matrix2[i][j])\n",
    "        result_matrix.append(row)\n",
    "\n",
    "    return result_matrix\n",
    "\n",
    "matrix1 = [\n",
    "    [2, 3, 4],\n",
    "    [5, 6, 7],\n",
    "    [8, 9, 10]\n",
    "]\n",
    "\n",
    "matrix2 = [\n",
    "    [1, 0, 3],\n",
    "    [4, 5, 6],\n",
    "    [7, 8, 9]\n",
    "]\n",
    "\n",
    "result = add_matrices(matrix1, matrix2)\n",
    "\n",
    "if result:\n",
    "    print(\"Resultant Matrix:\")\n",
    "    for row in result:\n",
    "        print(row)\n"
   ]
  },
  {
   "cell_type": "code",
   "execution_count": null,
   "id": "da5cf6d3-9bed-4da7-a94a-893faf5d3299",
   "metadata": {},
   "outputs": [],
   "source": []
  }
 ],
 "metadata": {
  "kernelspec": {
   "display_name": "Python 3 (ipykernel)",
   "language": "python",
   "name": "python3"
  },
  "language_info": {
   "codemirror_mode": {
    "name": "ipython",
    "version": 3
   },
   "file_extension": ".py",
   "mimetype": "text/x-python",
   "name": "python",
   "nbconvert_exporter": "python",
   "pygments_lexer": "ipython3",
   "version": "3.12.7"
  }
 },
 "nbformat": 4,
 "nbformat_minor": 5
}
