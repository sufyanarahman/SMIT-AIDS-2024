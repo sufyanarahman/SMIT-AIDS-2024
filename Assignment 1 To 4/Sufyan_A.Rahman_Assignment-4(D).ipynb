{
 "cells": [
  {
   "cell_type": "markdown",
   "id": "16bced81-9a87-4b38-bc27-762c2126f477",
   "metadata": {},
   "source": [
    "# Strings Assignments"
   ]
  },
  {
   "cell_type": "markdown",
   "id": "3182419e-d9f8-4183-b0fd-c3dc4223d989",
   "metadata": {},
   "source": [
    "1. Write a program that accepts a string from user. Your program should count and display number of\n",
    "vowels in that string."
   ]
  },
  {
   "cell_type": "code",
   "execution_count": 25,
   "id": "194fa6ca-0260-4d26-b280-5c29aeea2f90",
   "metadata": {},
   "outputs": [
    {
     "name": "stdin",
     "output_type": "stream",
     "text": [
      "Write anything!  qwertyasdfghjiou\n"
     ]
    },
    {
     "name": "stdout",
     "output_type": "stream",
     "text": [
      "The number of vowels in this string are 5\n"
     ]
    }
   ],
   "source": [
    "user_input= input(\"Write anything! \")\n",
    "vowels = \"aeiouAEIOU\"\n",
    "num_of_vowels = 0\n",
    "for char in user_input:\n",
    "    if char in vowels:\n",
    "        num_of_vowels += 1\n",
    "\n",
    "print(f\"The number of vowels in this string are {num_of_vowels}\")\n",
    "    "
   ]
  },
  {
   "cell_type": "markdown",
   "id": "eadb8478-3f38-43e1-99ff-e2f907777303",
   "metadata": {},
   "source": [
    "2. Write a program that reads a string from keyboard and display:\n",
    "* The number of uppercase letters in the string\n",
    "* The number of lowercase letters in the string\n",
    "* The number of digits in the string\n",
    "* The number of whitespace characters in the string"
   ]
  },
  {
   "cell_type": "code",
   "execution_count": 36,
   "id": "2ef2c2a9-8500-4a99-a378-24d9b1d3a283",
   "metadata": {},
   "outputs": [
    {
     "name": "stdin",
     "output_type": "stream",
     "text": [
      "Enter a string:  hey HOW 2 3 4\n"
     ]
    },
    {
     "data": {
      "text/plain": [
       "('Uppercase Letters: 3',\n",
       " 'Lowercase Letters: 3',\n",
       " 'Digits: 3',\n",
       " 'Whitespace Characters: 4')"
      ]
     },
     "execution_count": 36,
     "metadata": {},
     "output_type": "execute_result"
    }
   ],
   "source": [
    "def analyze_string(input_string):\n",
    "    upper_count = 0\n",
    "    lower_count = 0\n",
    "    digit_count = 0\n",
    "    whitespace_count = 0\n",
    "\n",
    "    # Loop through each character in the string\n",
    "    for char in input_string:\n",
    "        if char.isupper():\n",
    "            upper_count += 1\n",
    "        elif char.islower():\n",
    "            lower_count += 1\n",
    "        elif char.isdigit():\n",
    "            digit_count += 1\n",
    "        elif char.isspace():\n",
    "            whitespace_count += 1\n",
    "    \n",
    "    # Display the counts\n",
    "    return f\"Uppercase Letters: {upper_count}\", f\"Lowercase Letters: {lower_count}\", f\"Digits: {digit_count}\", f\"Whitespace Characters: {whitespace_count}\"\n",
    "\n",
    "user_input = input(\"Enter a string: \")\n",
    "str_counter = analyze_string(user_input)\n",
    "str_counter"
   ]
  },
  {
   "cell_type": "markdown",
   "id": "45c0f4ee-55ed-4d79-9489-677155f21181",
   "metadata": {},
   "source": [
    "3. Write a Python program that accepts a string from user. Your program should create and display a\n",
    "new string where the first and last characters have been exchanged."
   ]
  },
  {
   "cell_type": "code",
   "execution_count": 47,
   "id": "5c78d71d-4409-40ea-88e5-8dab8fe7d3ad",
   "metadata": {},
   "outputs": [
    {
     "name": "stdin",
     "output_type": "stream",
     "text": [
      "Please provide any string hello\n"
     ]
    },
    {
     "name": "stdout",
     "output_type": "stream",
     "text": [
      "oellh\n"
     ]
    }
   ],
   "source": [
    "def modified_str(string):\n",
    "    first_char = string[0]\n",
    "    last_char = string [-1]\n",
    "    new_str = last_char + string[1:-1] + first_char\n",
    "    return new_str\n",
    "\n",
    "user_string = input(\"Please provide any string\")\n",
    "new_str = modified_str(user_string)\n",
    "print(new_str)\n"
   ]
  },
  {
   "cell_type": "markdown",
   "id": "16547e1d-0332-461e-9789-98953da93e29",
   "metadata": {},
   "source": [
    "4. Write a Python program that accepts a string from user. Your program should create a new string in\n",
    "reverse of first string and display it."
   ]
  },
  {
   "cell_type": "code",
   "execution_count": 58,
   "id": "50e0e06e-6b8a-4e0f-8732-c6d983bfc9ea",
   "metadata": {},
   "outputs": [
    {
     "name": "stdin",
     "output_type": "stream",
     "text": [
      "Please provide any string Exam\n"
     ]
    },
    {
     "name": "stdout",
     "output_type": "stream",
     "text": [
      "maxe\n"
     ]
    }
   ],
   "source": [
    "def reversed_str(string):\n",
    "    new_str = string[::-1]\n",
    "    return new_str\n",
    "\n",
    "user_string = input(\"Please provide any string\").lower()\n",
    "new_str = reversed_str(user_string)\n",
    "print(new_str)"
   ]
  },
  {
   "cell_type": "markdown",
   "id": "359dc6a9-5de7-4b38-b86d-0774515ae933",
   "metadata": {},
   "source": [
    "5. Write a Python program that accepts a string from user. Your program should create a new string by\n",
    "shifting one position to left."
   ]
  },
  {
   "cell_type": "code",
   "execution_count": 63,
   "id": "3abe2464-1f71-413c-9b52-a3f3921eb348",
   "metadata": {},
   "outputs": [
    {
     "name": "stdin",
     "output_type": "stream",
     "text": [
      "Enter a string:  examination 2021\n"
     ]
    },
    {
     "name": "stdout",
     "output_type": "stream",
     "text": [
      "New string: xamination 2021e\n"
     ]
    }
   ],
   "source": [
    "text = input('Enter a string: ')\n",
    "newtext = text[1:] + text[0]\n",
    "print('New string:', newtext)"
   ]
  },
  {
   "cell_type": "markdown",
   "id": "08e66f95-03de-4e5d-9910-252d62edddeb",
   "metadata": {},
   "source": [
    "6. Write a program that asks the user to input his name and print its initials. Assuming that the user\n",
    "always types first name, middle name and last name and does not include any unnecessary spaces."
   ]
  },
  {
   "cell_type": "code",
   "execution_count": 30,
   "id": "0b065c22-fe59-4b57-895e-bb6b2295cfe0",
   "metadata": {},
   "outputs": [
    {
     "name": "stdin",
     "output_type": "stream",
     "text": [
      "Please enter your full name (First Middle Last):  sufyan abdul rahman\n"
     ]
    },
    {
     "name": "stdout",
     "output_type": "stream",
     "text": [
      "SAR\n"
     ]
    }
   ],
   "source": [
    "def get_initials(name):\n",
    "    # creating a variable for tracking the initials\n",
    "    initials = full_name[0]  # First initial is the first character\n",
    "    length = len(full_name)\n",
    "    \n",
    "    # Loop through the string to find spaces and grab the next character\n",
    "    for i in range(length):\n",
    "        if full_name[i] == ' ':  # Check for a space\n",
    "            initials += full_name[i + 1]\n",
    "\n",
    "    return initials.upper()\n",
    "  \n",
    "\n",
    "# Call the function\n",
    "full_name = input(\"Please enter your full name (First Middle Last): \")\n",
    "name_initial = get_initials(full_name)\n",
    "print(name_initial)\n"
   ]
  },
  {
   "cell_type": "markdown",
   "id": "a989a29f-39df-48b2-8fb8-c8e3a4b3f621",
   "metadata": {},
   "source": [
    "7. A palindrome is a string that reads the same backward as forward. For example, the words dad,\n",
    "madam and radar are all palindromes. Write a programs that determines whether the string is a\n",
    "palindrome.\n",
    "Note: do not use reverse() method"
   ]
  },
  {
   "cell_type": "code",
   "execution_count": 39,
   "id": "a42d0b51-dbc7-4189-9e4b-4244dd129721",
   "metadata": {},
   "outputs": [
    {
     "name": "stdin",
     "output_type": "stream",
     "text": [
      "Enter a string to check if it is a palindrome:  madam\n"
     ]
    },
    {
     "name": "stdout",
     "output_type": "stream",
     "text": [
      "('madam', 'The string is palindrome.')\n"
     ]
    }
   ],
   "source": [
    "def is_palindrome(string):\n",
    "    # Remove spaces and convert to lowercase for accurate comparison\n",
    "    clean_input = string.replace(\" \", \"\").lower()\n",
    "    \n",
    "    # Check if the string is equal to its reverse (manual comparison)\n",
    "    length = len(clean_input)\n",
    "    is_palindrome = True\n",
    "    for i in range(length // 2):  # Loop only half the string\n",
    "        if clean_input[i] != clean_input[length - i - 1]:  # Compare characters from start and end\n",
    "            is_palindrome = False\n",
    "            break\n",
    "    \n",
    "    # Print the result\n",
    "    if is_palindrome:\n",
    "        return clean_input, \"The string is palindrome.\"\n",
    "    else:\n",
    "        return clean_input,\"The string is not palindrome.\"\n",
    "\n",
    "user_input = input(\"Enter a string to check if it is a palindrome: \")\n",
    "answer = is_palindrome(user_input)\n",
    "print(answer)\n"
   ]
  },
  {
   "cell_type": "code",
   "execution_count": 75,
   "id": "88692e6d-2590-4710-8574-70083ed4e703",
   "metadata": {},
   "outputs": [
    {
     "name": "stdin",
     "output_type": "stream",
     "text": [
      "Please enter something sufyan\n"
     ]
    },
    {
     "name": "stdout",
     "output_type": "stream",
     "text": [
      "SUFYAN\n",
      "UFYANS\n",
      "FYANSU\n",
      "YANSUF\n",
      "ANSUFY\n",
      "NSUFYA\n",
      "SUFYAN\n"
     ]
    }
   ],
   "source": [
    "def display_shift_pattern(string):\n",
    "    length = len(string)\n",
    "    # Loop to display rotated versions of the string\n",
    "    for i in range(length):\n",
    "        # Print the rotated string\n",
    "        rotated_word = string[i:] + string[:i]\n",
    "        print(rotated_word.upper())\n",
    "    return string.upper()\n",
    "    \n",
    "\n",
    "# Call the function\n",
    "user_input = input(\"Please enter something\")\n",
    "shift_pattern = display_shift_pattern(user_input)\n",
    "print(shift_pattern)\n"
   ]
  },
  {
   "cell_type": "markdown",
   "id": "f30db4dc-9537-4a9d-add5-4a1861525067",
   "metadata": {},
   "source": [
    "9. Write a program in python that accepts a string to setup a passwords. Your entered password must\n",
    "meet the following requirements:\n",
    "\n",
    "The password must be at least eight characters long.\n",
    "It must contain at least one uppercase letter.\n",
    "It must contain at least one lowercase letter.\n",
    "It must contain at least one numeric digit.\n",
    "\n",
    "Your program should should perform this validation."
   ]
  },
  {
   "cell_type": "code",
   "execution_count": 84,
   "id": "856890f3-c85b-47d6-893d-bea879b920a9",
   "metadata": {},
   "outputs": [
    {
     "name": "stdout",
     "output_type": "stream",
     "text": [
      "Password requirements:\n",
      "- At least 8 characters long\n",
      "- At least one uppercase letter\n",
      "- At least one lowercase letter\n",
      "- At least one numeric digit\n",
      "\n"
     ]
    },
    {
     "name": "stdin",
     "output_type": "stream",
     "text": [
      "Enter your password:  sufyaAgahhufhau76\n"
     ]
    },
    {
     "name": "stdout",
     "output_type": "stream",
     "text": [
      "Password is valid!\n"
     ]
    }
   ],
   "source": [
    "def validate_password():\n",
    "    print(\"Password requirements:\")\n",
    "    print(\"- At least 8 characters long\")\n",
    "    print(\"- At least one uppercase letter\")\n",
    "    print(\"- At least one lowercase letter\")\n",
    "    print(\"- At least one numeric digit\\n\")\n",
    "    \n",
    "    # Prompt user to enter a password\n",
    "    password = input(\"Enter your password: \")\n",
    "    \n",
    "    # Initialize flags for validation\n",
    "    has_uppercase = False\n",
    "    has_lowercase = False\n",
    "    has_digit = False\n",
    "    \n",
    "    # Check the length\n",
    "    if len(password) < 8:\n",
    "        print(\"Error: Password must be at least 8 characters long.\")\n",
    "        return\n",
    "    \n",
    "    # Check for uppercase, lowercase, and digit\n",
    "    for char in password:\n",
    "        if char.isupper():\n",
    "            has_uppercase = True\n",
    "        elif char.islower():\n",
    "            has_lowercase = True\n",
    "        elif char.isdigit():\n",
    "            has_digit = True\n",
    "    \n",
    "    # Validate all conditions\n",
    "    if not has_uppercase:\n",
    "        print(\"Error: Password must contain at least one uppercase letter.\")\n",
    "    elif not has_lowercase:\n",
    "        print(\"Error: Password must contain at least one lowercase letter.\")\n",
    "    elif not has_digit:\n",
    "        print(\"Error: Password must contain at least one numeric digit.\")\n",
    "    else:\n",
    "        print(\"Password is valid!\")\n",
    "\n",
    "# Call the function\n",
    "validate_password()\n"
   ]
  },
  {
   "cell_type": "code",
   "execution_count": null,
   "id": "272bdf92-5b2e-4c0b-9ea5-6923d8b4003e",
   "metadata": {},
   "outputs": [],
   "source": []
  }
 ],
 "metadata": {
  "kernelspec": {
   "display_name": "Python 3 (ipykernel)",
   "language": "python",
   "name": "python3"
  },
  "language_info": {
   "codemirror_mode": {
    "name": "ipython",
    "version": 3
   },
   "file_extension": ".py",
   "mimetype": "text/x-python",
   "name": "python",
   "nbconvert_exporter": "python",
   "pygments_lexer": "ipython3",
   "version": "3.12.7"
  }
 },
 "nbformat": 4,
 "nbformat_minor": 5
}
