{
 "cells": [
  {
   "cell_type": "markdown",
   "id": "17ba7254-70bd-4d42-9964-1b24d0916600",
   "metadata": {},
   "source": [
    "# Python If Else Practice Questions\n",
    "\n",
    "## A- Discounts and Pricing "
   ]
  },
  {
   "cell_type": "markdown",
   "id": "99411d1c-c5aa-4124-8646-83103a4ceb54",
   "metadata": {},
   "source": [
    "## 1. Check Discount Eligibility\n",
    "Write a program to check if a customer is eligible for a discount. If the total purchase is\n",
    "more than $100, apply a 10% discount and display the final price. Otherwise, display the\n",
    "total price as it is."
   ]
  },
  {
   "cell_type": "code",
   "execution_count": 12,
   "id": "8473ade0-b38e-4c95-9652-95e81cc4ef53",
   "metadata": {},
   "outputs": [
    {
     "name": "stdin",
     "output_type": "stream",
     "text": [
      "Please enter purchase amount:  230\n"
     ]
    },
    {
     "name": "stdout",
     "output_type": "stream",
     "text": [
      " \n",
      "           Total purchase amount: $230.0\n",
      "           Total discount: $23.0\n",
      "           Total price after discount: $207.0\n"
     ]
    }
   ],
   "source": [
    "purchase_amount = float(input(\"Please enter purchase amount: \"))\n",
    "if purchase_amount > 100:\n",
    "    discount = purchase_amount * .10\n",
    "    print(f\"\"\" \n",
    "           Total purchase amount: ${purchase_amount}\n",
    "           Total discount: ${discount}\n",
    "           Total price after discount: ${purchase_amount - discount}\"\"\")\n",
    "else:\n",
    "    print(f\"Total price: ${purchase_amount}\")\n"
   ]
  },
  {
   "cell_type": "markdown",
   "id": "0b51a456-e3f1-4285-9eaa-fb3951c0f34f",
   "metadata": {},
   "source": [
    "## 2. Calculate Bulk Discount\n",
    "If a customer buys more than 5 items, apply a 15% discount on the total price. Otherwise,\n",
    "no discount is applied. Display the total price.\n"
   ]
  },
  {
   "cell_type": "code",
   "execution_count": 21,
   "id": "f969f3ee-7bda-456f-a0fa-4dfb894976c4",
   "metadata": {},
   "outputs": [
    {
     "name": "stdin",
     "output_type": "stream",
     "text": [
      "Please provide number of items purchased:  8\n",
      "Please provide price per item:  10\n"
     ]
    },
    {
     "name": "stdout",
     "output_type": "stream",
     "text": [
      "\n",
      "              Number of items purchased: 8\n",
      "              Total price: $80.0\n",
      "              Total Discount: $12.0\n",
      "              Total price after discount: $68.0\n"
     ]
    }
   ],
   "source": [
    "num_items = int(input(\"Please provide number of items purchased: \"))\n",
    "price_per_item= float(input(\"Please provide price per item: \"))\n",
    "\n",
    "# calculating total price by multipliyng number of items with price per item\n",
    "total_price = num_items * price_per_item\n",
    "\n",
    "if num_items > 5:\n",
    "    discount = total_price * .15\n",
    "    print(f\"\"\"\n",
    "              Number of items purchased: {num_items}\n",
    "              Total price: ${total_price}\n",
    "              Total Discount: ${discount}\n",
    "              Total price after discount: ${total_price - discount}\"\"\")\n",
    "else:\n",
    "    print(f\"Total price is ${total_price}\")"
   ]
  },
  {
   "cell_type": "markdown",
   "id": "304dd0ae-684a-43a2-8432-f21b48040337",
   "metadata": {},
   "source": [
    "## 3. Membership Discount\n",
    "Check if the customer is a member (is_member = True). Members get a 20% discount;\n",
    "non-members get a 5% discount. Calculate and print the discounted price."
   ]
  },
  {
   "cell_type": "code",
   "execution_count": 48,
   "id": "cad509cd-a909-49e6-ab87-06b3089b51aa",
   "metadata": {},
   "outputs": [
    {
     "name": "stdin",
     "output_type": "stream",
     "text": [
      "Are you a member? please type yes/no:  YES\n",
      "Please provide total price amount:  230\n"
     ]
    },
    {
     "name": "stdout",
     "output_type": "stream",
     "text": [
      " \n",
      "                Are you a member?: yes\n",
      "                Total price: $230.0\n",
      "                Total discount: $46.0\n",
      "                Total price after discount: $184.0\n",
      "               \n"
     ]
    }
   ],
   "source": [
    "is_member = input(\"Are you a member? please type yes/no: \").lower()\n",
    "\n",
    " ## checking if user has responded in other than yes/no\n",
    "if is_member != \"yes\" and is_member != \"no\":\n",
    "    print(\"Invalid responce please type yes OR no in your responce!\") # requesting user to type correct responce\n",
    "else:\n",
    "    total_price = float(input(\"Please provide total price amount: \"))\n",
    "    if is_member == \"yes\":\n",
    "        print(f\"\"\" \n",
    "                Are you a member?: {is_member}\n",
    "                Total price: ${total_price}\n",
    "                Total discount: ${total_price * .20}\n",
    "                Total price after discount: ${total_price * .80}\n",
    "               \"\"\")\n",
    "    else:\n",
    "        print(f\"\"\" \n",
    "                Are you a member?: {is_member}\n",
    "                Total price: ${total_price}\n",
    "                Total Discount: ${total_price * .05}\n",
    "                Total price after discount: ${total_price * .95}\"\"\")"
   ]
  },
  {
   "cell_type": "markdown",
   "id": "8a7b071b-6a5f-4d78-a698-29ac315ea8f5",
   "metadata": {},
   "source": [
    "## 4. Seasonal Sale\n",
    "If today is a holiday (is_holiday = True), apply a 25% discount; otherwise, apply a 10%\n",
    "discount. Calculate the price after discount.\n"
   ]
  },
  {
   "cell_type": "code",
   "execution_count": 67,
   "id": "ea541086-34cb-4bda-81ed-964147bdc3e9",
   "metadata": {},
   "outputs": [
    {
     "name": "stdin",
     "output_type": "stream",
     "text": [
      "Please provide total price:  400\n",
      "Is today a holiday?reply with yes/no:  no\n"
     ]
    },
    {
     "name": "stdout",
     "output_type": "stream",
     "text": [
      "\n",
      "           Total_price: $400.0\n",
      "           Total discount: $40.0\n",
      "           Total price after discount: $360.0\n"
     ]
    }
   ],
   "source": [
    "total_price = float(input(\"Please provide total price: \"))\n",
    "is_holiday = input(\"Is today a holiday?reply with yes/no: \").lower()\n",
    "if is_holiday == \"yes\":\n",
    "    discount = total_price * .25\n",
    "    print(f\"\"\" \n",
    "           Happy holidays:\n",
    "           Total_price: ${total_price}\n",
    "           Total discount: ${discount}\n",
    "           Total price after discount: ${total_price - discount}\"\"\")\n",
    "else:\n",
    "    discount = total_price * .10\n",
    "    print(f\"\"\"\n",
    "           Total_price: ${total_price}\n",
    "           Total discount: ${discount}\n",
    "           Total price after discount: ${total_price - discount}\"\"\")\n",
    "    "
   ]
  },
  {
   "cell_type": "markdown",
   "id": "9cb6f6d5-8c56-4ec5-a681-a22d137105af",
   "metadata": {},
   "source": [
    "## 5. Buy-One-Get-One-Free\n",
    "If a customer buys an even number of items, they get half of them for free. Otherwise,\n",
    "they pay for all. Calculate the number of items the customer has to pay for."
   ]
  },
  {
   "cell_type": "code",
   "execution_count": 74,
   "id": "1eb40365-d763-4254-8b33-b7f17ece51cd",
   "metadata": {},
   "outputs": [
    {
     "name": "stdin",
     "output_type": "stream",
     "text": [
      "Please provide number of items purchased:  20\n",
      "Please provide price per item:  50\n"
     ]
    },
    {
     "name": "stdout",
     "output_type": "stream",
     "text": [
      "\n",
      "           Total_price: $1000.0\n",
      "           Total discount: $500.0\n",
      "           Total price after discount: $500.0\n"
     ]
    }
   ],
   "source": [
    "num_items = int(input(\"Please provide number of items purchased: \"))\n",
    "price_per_item = float(input(\"Please provide price per item: \"))\n",
    "# calculating total price\n",
    "total_price = num_items * price_per_item\n",
    "if num_items % 2 == 0:\n",
    "        print(f\"\"\"\n",
    "           Total_price: ${total_price}\n",
    "           Total discount: ${total_price * .50}\n",
    "           Total price after discount: ${total_price * .50}\"\"\")\n",
    "else:\n",
    "    print(f\"Total price: ${total_price}\")"
   ]
  },
  {
   "cell_type": "markdown",
   "id": "b467fa58-05a8-4d71-913d-714c9e26d6bc",
   "metadata": {},
   "source": [
    "# B- Tax Calculations"
   ]
  },
  {
   "cell_type": "markdown",
   "id": "53274f49-9d6b-46b2-bf09-1850d47cd31d",
   "metadata": {},
   "source": [
    "## 6. Sales Tax\n",
    "If the price of an item is greater than $500, apply a luxury tax of 15%. Otherwise, apply a\n",
    "standard tax of 8%. Display the total price after tax."
   ]
  },
  {
   "cell_type": "code",
   "execution_count": 82,
   "id": "9f49638f-d99f-4b2e-9c29-1b34a468c823",
   "metadata": {},
   "outputs": [
    {
     "name": "stdin",
     "output_type": "stream",
     "text": [
      "Please provide price of item purchased:  689\n"
     ]
    },
    {
     "name": "stdout",
     "output_type": "stream",
     "text": [
      " \n",
      "           Price of item: $689.0\n",
      "           Total luxury tax: $103.35\n",
      "           Price after tax: $792.35\n"
     ]
    }
   ],
   "source": [
    "item_price = float(input(\"Please provide price of item purchased: \"))\n",
    "if item_price > 500:\n",
    "    luxury_tax = item_price * .15\n",
    "    print(f\"\"\" \n",
    "           Price of item: ${item_price}\n",
    "           Total luxury tax: ${luxury_tax}\n",
    "           Price after tax: ${item_price + luxury_tax}\"\"\")\n",
    "else:\n",
    "    standard_tax = item_price * .08\n",
    "    print(f\"\"\" \n",
    "           Price of item: ${item_price}\n",
    "           Total standard tax: ${standard_tax}\n",
    "           Price after tax: ${item_price + standard_tax}\n",
    "            \"\"\")"
   ]
  },
  {
   "cell_type": "markdown",
   "id": "e88fdf1e-2e1e-415b-8b93-bc3731ce2691",
   "metadata": {},
   "source": [
    "## 7. Income Tax\n",
    "If a person's annual income is above $50,000, they pay 20% tax. Otherwise, they pay\n",
    "10%. Calculate and display the tax amount."
   ]
  },
  {
   "cell_type": "code",
   "execution_count": 87,
   "id": "9d7e03df-8345-4268-8a74-ac996fd67c1d",
   "metadata": {},
   "outputs": [
    {
     "name": "stdin",
     "output_type": "stream",
     "text": [
      "Please provide your annual income 56000\n"
     ]
    },
    {
     "name": "stdout",
     "output_type": "stream",
     "text": [
      " \n",
      "           Annual income: $56000.0\n",
      "           Total income tax: $11200.0\n",
      "           Income after income tax: $44800.0\n"
     ]
    }
   ],
   "source": [
    "annual_income = float(input(\"Please provide your annual income\"))\n",
    "if annual_income > 50_000:\n",
    "    income_tax = annual_income * .20\n",
    "    print(f\"\"\" \n",
    "           Annual income: ${annual_income}\n",
    "           Total income tax: ${income_tax}\n",
    "           Income after income tax: ${annual_income - income_tax}\"\"\")\n",
    "else:\n",
    "    income_tax = annual_income * .10\n",
    "    print(f\"\"\" \n",
    "           Annual income: ${annual_income}\n",
    "           Total income tax: ${income_tax}\n",
    "           Income after income tax: ${annual_income - income_tax}\n",
    "            \"\"\")"
   ]
  },
  {
   "cell_type": "markdown",
   "id": "639c534d-e396-4015-92aa-98b3ac9c27e6",
   "metadata": {},
   "source": [
    "## 8. Tax Bracket\n",
    "Write a program to categorize a person into tax brackets:\n",
    " - Income < $30,000: Low Tax\n",
    "   \n",
    " - $30,000 ≤ Income < $100,000: Medium Tax\n",
    "   \n",
    " - Income ≥ $100,000: High Tax\n"
   ]
  },
  {
   "cell_type": "code",
   "execution_count": 107,
   "id": "2330b720-dfff-4168-ab06-c554609de07c",
   "metadata": {},
   "outputs": [
    {
     "name": "stdin",
     "output_type": "stream",
     "text": [
      "Please provide your annual income:  20_000\n"
     ]
    },
    {
     "name": "stdout",
     "output_type": "stream",
     "text": [
      "Tax bracket: Low Tax\n"
     ]
    }
   ],
   "source": [
    "total_income = float(input(\"Please provide your annual income: \"))\n",
    "if total_income >=  100_000:\n",
    "    print(\"Tax bracket: High Tax\")\n",
    "elif total_income >= 30_000 and total_income < 100_000:\n",
    "    print(\"Tax bracket: Medium Tax\")\n",
    "else:\n",
    "    print(\"Tax bracket: Low Tax\")"
   ]
  },
  {
   "cell_type": "markdown",
   "id": "7040a99b-a6a9-4844-aaf9-50d68a6a4c09",
   "metadata": {},
   "source": [
    "## 9. VAT Calculation\n",
    "If the item is marked as essential (is_essential = True), apply a VAT of 5%. Otherwise,\n",
    "apply a VAT of 12%. Display the final price."
   ]
  },
  {
   "cell_type": "code",
   "execution_count": 12,
   "id": "08d940b2-c458-48bb-8f39-256ea5186317",
   "metadata": {},
   "outputs": [
    {
     "name": "stdin",
     "output_type": "stream",
     "text": [
      "Please state if the item is essential reply with yes/no:  y\n"
     ]
    },
    {
     "name": "stdout",
     "output_type": "stream",
     "text": [
      "Invalid responce please type yes OR no in your responce!\n"
     ]
    }
   ],
   "source": [
    "is_essential = input(\"Please state if the item is essential reply with yes/no: \").lower()\n",
    " ## checking if user has responded in other than yes/no\n",
    "if is_essential != \"yes\" and is_essential != \"no\":\n",
    "    print(\"Invalid responce please type yes OR no in your responce!\") # requesting user to type correct responce\n",
    "else:\n",
    "    total_price = float(input(\"Please provide total price amount: \"))\n",
    "    if is_essential == \"yes\":\n",
    "        value_added_tax = total_price * .05\n",
    "        print(f\"\"\" \n",
    "                Is the item essential?: {is_essential}\n",
    "                Total price: ${total_price}\n",
    "                Total Value Added Tax: ${value_added_tax}\n",
    "                Total price after Value Added Tax: ${total_price + value_added_tax}\n",
    "               \"\"\")\n",
    "    else:\n",
    "        value_added_tax = total_price * .12\n",
    "        print(f\"\"\" \n",
    "                Is the item essential?: {is_essential}\n",
    "                Total price: ${total_price}\n",
    "                Total Value Added Tax: ${value_added_tax}\n",
    "                Total price after Value Added Tax: ${total_price + value_added_tax}\"\"\")\n"
   ]
  },
  {
   "cell_type": "markdown",
   "id": "e8b10823-2757-46aa-a4e2-af04fc6af42f",
   "metadata": {},
   "source": [
    "## 10. Tax-Free Day\n",
    "If today is a tax-free day (tax_free = True), display the original price. Otherwise, add a\n",
    "7% tax."
   ]
  },
  {
   "cell_type": "code",
   "execution_count": 31,
   "id": "455f64d0-cc4a-4e89-827e-7bbad91ea74d",
   "metadata": {},
   "outputs": [
    {
     "name": "stdin",
     "output_type": "stream",
     "text": [
      "Is today a tax free day?reply with yes/no:  no\n",
      "Please provide total price amount:  450\n"
     ]
    },
    {
     "name": "stdout",
     "output_type": "stream",
     "text": [
      "\n",
      "           Total_price: $450.0\n",
      "           Total tax: $31.500000000000004\n",
      "           Total price after tax: $481.5\n"
     ]
    }
   ],
   "source": [
    "tax_free = input(\"Is today a tax free day?reply with yes/no: \").lower()\n",
    " ## checking if user has responded in other than yes/no\n",
    "if tax_free != \"yes\" and tax_free != \"no\":\n",
    "    print(\"Invalid responce please type yes OR no in your responce!\") # requesting user to type correct responce\n",
    "else:\n",
    "    total_price = float(input(\"Please provide total price amount: \"))    \n",
    "    if tax_free == \"yes\":\n",
    "        print(f\"\"\" \n",
    "           Happy Tax free day!\n",
    "           Total_price: ${total_price}\"\"\")\n",
    "    else:\n",
    "        tax = total_price * .07\n",
    "        print(f\"\"\"\n",
    "           Total_price: ${total_price}\n",
    "           Total tax: ${tax}\n",
    "           Total price after tax: ${total_price + tax}\"\"\")"
   ]
  },
  {
   "cell_type": "markdown",
   "id": "36847891-037a-4a65-bbd1-aa51cb26fe11",
   "metadata": {},
   "source": [
    "# C- Shopping and Billing"
   ]
  },
  {
   "cell_type": "markdown",
   "id": "980e898e-672a-4e6d-95a1-85089a83ad70",
   "metadata": {},
   "source": [
    "## 11. Free Shipping\n",
    "If the total purchase amount is more than 50  offer free shipping; otherwise, charge $5\n",
    "for shipping. Display the total amount including shipping.\n"
   ]
  },
  {
   "cell_type": "code",
   "execution_count": 40,
   "id": "e3ebd3a6-65f8-4c60-8057-ad2239a3be00",
   "metadata": {},
   "outputs": [
    {
     "name": "stdin",
     "output_type": "stream",
     "text": [
      "Please provide amount of total purchase:  450\n"
     ]
    },
    {
     "name": "stdout",
     "output_type": "stream",
     "text": [
      " \n",
      "               Thanks for shopping with us!\n",
      "               Shipping is free for you\n",
      "               Total amount: $450.0\n"
     ]
    }
   ],
   "source": [
    "total_purchase = float(input(\"Please provide amount of total purchase: \"))\n",
    "if total_purchase > 50:\n",
    "    print(f\"\"\" \n",
    "               Thanks for shopping with us!\n",
    "               Shipping is free for you\n",
    "               Total amount: ${total_purchase}\"\"\")\n",
    "else:\n",
    "    shipping_charges = 5\n",
    "    print(f\"\"\" \n",
    "           Thanks for shopping with us!\n",
    "           Shipping charges: ${shipping_charges}\n",
    "           Total amount including shipping charges: ${total_purchase+shipping_charges}\"\"\")"
   ]
  },
  {
   "cell_type": "markdown",
   "id": "4a23d745-6190-47cd-9135-b3c7ed0c1bd7",
   "metadata": {},
   "source": [
    "## 12. Discount Code\n",
    "If a customer enters the correct discount code (DISCOUNT10), apply a 10% discount.\n",
    "Otherwise, charge the full amount."
   ]
  },
  {
   "cell_type": "code",
   "execution_count": 45,
   "id": "daa5b849-3ab3-4096-81e2-df176fe555c7",
   "metadata": {},
   "outputs": [
    {
     "name": "stdin",
     "output_type": "stream",
     "text": [
      "Please provide total price:  450\n",
      "Please provide discount code:  TRUE\n"
     ]
    },
    {
     "name": "stdout",
     "output_type": "stream",
     "text": [
      "\n",
      "           Total price: $450.0\n"
     ]
    }
   ],
   "source": [
    "total_price = float(input(\"Please provide total price: \"))\n",
    "discount_code = input(\"Please provide discount code: \")\n",
    "if discount_code == \"DISCOUNT10\":\n",
    "    discount = total_price * .10\n",
    "    print(f\"\"\"\n",
    "            Total price: ${total_price}\n",
    "            Discount Code: {discount_code}\n",
    "            discount applied: ${discount}\n",
    "            Total amount after discount: ${total_price - discount}\"\"\")\n",
    "else:\n",
    "    print(f\"\"\"\n",
    "           Total price: ${total_price}\"\"\")"
   ]
  },
  {
   "cell_type": "markdown",
   "id": "223895bc-3312-4899-adcc-1990732e093f",
   "metadata": {},
   "source": [
    "## 13. Tiered Discounts\n",
    "Apply discounts based on the total price:\n",
    "- 0–50: No discount.\n",
    "  \n",
    "- 50–100: 10% discount.\n",
    "  \n",
    "- Over $100: 20% discount.\n"
   ]
  },
  {
   "cell_type": "code",
   "execution_count": 57,
   "id": "17055b04-db26-49fd-a045-a7959b98d966",
   "metadata": {},
   "outputs": [
    {
     "name": "stdin",
     "output_type": "stream",
     "text": [
      "Please provide total price:  20\n"
     ]
    },
    {
     "name": "stdout",
     "output_type": "stream",
     "text": [
      " \n",
      "           No discount\n",
      "           Total price: $20.0\n"
     ]
    }
   ],
   "source": [
    "total_price= float(input(\"Please provide total price: \"))\n",
    "if total_price > 100:\n",
    "    discount = total_price * .20\n",
    "    print(f\"\"\" \n",
    "           total price: ${total_price}\n",
    "           Total discount: ${discount}\n",
    "           total price after discount: ${total_price - discount}\"\"\")\n",
    "elif total_price >= 50 and total_price <= 100:\n",
    "        discount = total_price * .10\n",
    "        print(f\"\"\" \n",
    "           total price: ${total_price}\n",
    "           Total discount: ${discount}\n",
    "           total price after discount: ${total_price - discount}\"\"\")\n",
    "else:\n",
    "        print(f\"\"\" \n",
    "           No discount\n",
    "           Total price: ${total_price}\"\"\")"
   ]
  },
  {
   "cell_type": "markdown",
   "id": "3dfe10b7-a6f2-4e3c-a1ec-3910093c7874",
   "metadata": {},
   "source": [
    "## 14. Minimum Purchase Requirement\n",
    "If the total amount is less than $20, display a message: quot;Minimum purchase of 20 is\n",
    "required.quot; Otherwise, display the total amount."
   ]
  },
  {
   "cell_type": "code",
   "execution_count": 66,
   "id": "9d85464a-e406-492f-8ead-6500bb9e2da2",
   "metadata": {},
   "outputs": [
    {
     "name": "stdin",
     "output_type": "stream",
     "text": [
      "Please provide total amount:  1\n"
     ]
    },
    {
     "name": "stdout",
     "output_type": "stream",
     "text": [
      "Minimum purchase of $20 is required\n"
     ]
    }
   ],
   "source": [
    "total_amount = float(input(\"Please provide total amount: \"))\n",
    "if total_amount < 20:\n",
    "    print(\"Minimum purchase of $20 is required\")\n",
    "else:\n",
    "    print(f\"Total amount: ${total_amount}\")"
   ]
  },
  {
   "cell_type": "markdown",
   "id": "7a77466b-f0b9-4e0e-8880-800b3cabfbd0",
   "metadata": {},
   "source": [
    "## 15. Loyalty Points\n",
    "If a customer is a loyal member (is_loyal = True), they earn double loyalty points for\n",
    "their purchase. Otherwise, they earn standard points"
   ]
  },
  {
   "cell_type": "code",
   "execution_count": 91,
   "id": "9102a58e-58ff-46e8-9fba-639d912a15a7",
   "metadata": {},
   "outputs": [
    {
     "name": "stdin",
     "output_type": "stream",
     "text": [
      "Please provide purchase amount:  459\n",
      "Are you a loyal customer?reply with yes/no:  true\n"
     ]
    },
    {
     "name": "stdout",
     "output_type": "stream",
     "text": [
      "Invalid responce please type yes OR no in your responce!\n"
     ]
    }
   ],
   "source": [
    "purchase_amount = float(input(\"Please provide purchase amount: \"))\n",
    "is_loyal = input(\"Are you a loyal customer?reply with yes/no: \").lower()\n",
    "standard_points = 1\n",
    " ## checking if user has responded in other than yes/no\n",
    "if is_loyal != \"yes\" and is_loyal != \"no\":\n",
    "    print(\"Invalid responce please type yes OR no in your responce!\") # requesting user to type correct responce\n",
    "else:\n",
    "    if is_loyal == \"yes\":\n",
    "        loyalty_points = standard_points * 2\n",
    "        total_points = purchase_amount * loyalty_points\n",
    "        print(f\"total points earned: {total_points}\")\n",
    "    else:\n",
    "        loyalty_points = standard_points\n",
    "        total_points = purchase_amount * loyalty_points\n",
    "        print(f\"total points earned: {total_points}\")\n"
   ]
  },
  {
   "cell_type": "markdown",
   "id": "82c1ae1f-f273-4378-93bb-4ca99dc7c946",
   "metadata": {},
   "source": [
    "# D- Travel and Tickets"
   ]
  },
  {
   "cell_type": "markdown",
   "id": "2bdb32ec-162a-4ccf-afa5-ad7e33b238bb",
   "metadata": {},
   "source": [
    "## 16. Travel Discount\n",
    "If a person is traveling more than 500 miles, offer a 20% discount on ticket price.\n",
    "Otherwise, charge the full amount."
   ]
  },
  {
   "cell_type": "code",
   "execution_count": 107,
   "id": "23cf0d00-63a7-4b7c-820b-0b86cd34912b",
   "metadata": {},
   "outputs": [
    {
     "name": "stdin",
     "output_type": "stream",
     "text": [
      "Please provide total price:  500\n",
      "Please provide total miles you have travelled with us:  200\n"
     ]
    },
    {
     "name": "stdout",
     "output_type": "stream",
     "text": [
      " \n",
      "           Thanks for traveling with us!\n",
      "           Total amount: $500.0\n"
     ]
    }
   ],
   "source": [
    "total_price = float(input(\"Please provide total price: \"))\n",
    "travel_miles = float(input(\"Please provide total miles you have travelled with us: \"))\n",
    "if travel_miles > 500:\n",
    "    discount_for_miles = total_price * .20\n",
    "    print(f\"\"\" \n",
    "               Thank you for traveling  with us!\n",
    "               Total amount: ${total_price}\n",
    "               Miles travelled with us: {travel_miles} miles\n",
    "               Total discount: ${discount_for_miles}\n",
    "               Total amount after discount: ${total_price - discount_for_miles}\"\"\")\n",
    "else:\n",
    "    print(f\"\"\" \n",
    "           Thanks for traveling with us!\n",
    "           Total amount: ${total_price}\"\"\")"
   ]
  },
  {
   "cell_type": "markdown",
   "id": "6dde72e8-f9a4-44d2-bdc4-36b5178cab16",
   "metadata": {},
   "source": [
    "## 17. Child or Senior Discount\n",
    "If a passenger is under 12 or over 60 years old, apply a 15% discount on the ticket price.\n",
    "Otherwise, charge the full price.\n"
   ]
  },
  {
   "cell_type": "code",
   "execution_count": 118,
   "id": "40d56a1b-f1bd-444e-9964-7919854b56e3",
   "metadata": {},
   "outputs": [
    {
     "name": "stdin",
     "output_type": "stream",
     "text": [
      "Please provide total price:  500\n",
      "Please provide your age:  20\n"
     ]
    },
    {
     "name": "stdout",
     "output_type": "stream",
     "text": [
      " \n",
      "           Passengers age: 20 years old\n",
      "           Total amount: $500.0\n"
     ]
    }
   ],
   "source": [
    "total_price = float(input(\"Please provide total price: \"))\n",
    "age = int(input(\"Please provide your age: \"))\n",
    "if age < 12 or age > 60:\n",
    "     discount_for_age = total_price * .15\n",
    "     print(f\"\"\" \n",
    "               Total amount: ${total_price}\n",
    "               Passengers age: {age} years old\n",
    "               Total discount: ${discount_for_age}\n",
    "               Total amount after discount: ${total_price - discount_for_age}\"\"\")\n",
    "else:\n",
    "    print(f\"\"\" \n",
    "           Passengers age: {age} years old\n",
    "           Total amount: ${total_price}\"\"\")"
   ]
  },
  {
   "cell_type": "markdown",
   "id": "0faa92c5-a0ab-4d53-92d5-81a4e185dfd8",
   "metadata": {},
   "source": [
    "## 18. Ticket Type Pricing\n",
    "If the ticket is for a weekend (is_weekend = True), add a 10% surcharge. Otherwise,\n",
    "charge the standard price."
   ]
  },
  {
   "cell_type": "code",
   "execution_count": 8,
   "id": "8110c3ea-eec0-4f3e-aae7-5b4e1a9349b7",
   "metadata": {},
   "outputs": [
    {
     "name": "stdin",
     "output_type": "stream",
     "text": [
      "Please provide ticket price:  450\n",
      "is it a weekend?reply with yes/no:  tewhewH\n"
     ]
    },
    {
     "name": "stdout",
     "output_type": "stream",
     "text": [
      "Invalid responce please type yes OR no in your responce!\n"
     ]
    }
   ],
   "source": [
    "ticket_price = float(input(\"Please provide ticket price: \"))\n",
    "is_weekend = input(\"is it a weekend?reply with yes/no: \").lower()\n",
    "\n",
    " ## checking if user has responded in other than yes/no\n",
    "if is_weekend != \"yes\" and is_weekend != \"no\":\n",
    "    print(\"Invalid responce please type yes OR no in your responce!\") # requesting user to type correct responce\n",
    "else:\n",
    "    if is_weekend == \"yes\":\n",
    "        surcharge = ticket_price * .10\n",
    "        print(f\"\"\" \n",
    "                Is it weekend: {is_weekend}\n",
    "                Surcharge amount: ${surcharge}\n",
    "                ticket price after surcharge: {ticket_price + surcharge}\"\"\")\n",
    "\n",
    "    else:\n",
    "        print(f\"\"\" \n",
    "                is it weekend: {is_weekend}\n",
    "                ticket price: ${ticket_price}\"\"\")\n"
   ]
  },
  {
   "cell_type": "markdown",
   "id": "a669d1bc-6343-4a00-9b84-dedf3b3ffaaf",
   "metadata": {},
   "source": [
    "## 19. Baggage Fee\n",
    "If the total baggage weight is over 20kg, charge $10 per extra kilogram. Otherwise, no\n",
    "extra fee."
   ]
  },
  {
   "cell_type": "code",
   "execution_count": 15,
   "id": "c297ea6e-29ad-4408-ba13-17a0a9af7f90",
   "metadata": {},
   "outputs": [
    {
     "name": "stdin",
     "output_type": "stream",
     "text": [
      "Please provide total price:  450\n",
      "Please provide total weight of baggage:  25\n"
     ]
    },
    {
     "name": "stdout",
     "output_type": "stream",
     "text": [
      " \n",
      "            Baggage weight: 25.0\n",
      "            Your weight is over 5.0 kg than normal 20 kg\n",
      "            Extra fees: $50.0\n",
      "            Total price after extra fees: 500.0\n"
     ]
    }
   ],
   "source": [
    "total_price = float(input(\"Please provide total price: \"))\n",
    "baggage_weight = float(input(\"Please provide total weight of baggage: \"))\n",
    "if baggage_weight > 20:\n",
    "    extra_weight = baggage_weight - 20\n",
    "    extra_fee = extra_weight * 10\n",
    "    print(f\"\"\" \n",
    "            Baggage weight: {baggage_weight} kg\n",
    "            Your weight is over {extra_weight} kg than normal 20 kg\n",
    "            Extra fees: ${extra_fee}\n",
    "            Total price after extra fees: {total_price + extra_fee}\"\"\")\n",
    "\n",
    "else:\n",
    "    print(f\"\"\" \n",
    "           Baggage weight: {baggage_weight}\n",
    "           Total price: ${total_price}\"\"\")"
   ]
  },
  {
   "cell_type": "markdown",
   "id": "b4b61bb5-c3a9-4109-bcc3-9f4d851d64b2",
   "metadata": {},
   "source": [
    "## 20. Early Bird Discount\n",
    "If a ticket is booked more than 30 days in advance, apply a 10% discount. Otherwise,\n",
    "charge the full price."
   ]
  },
  {
   "cell_type": "code",
   "execution_count": 123,
   "id": "224a28ac-6d1a-433b-a451-17c31f7dccc0",
   "metadata": {},
   "outputs": [
    {
     "name": "stdin",
     "output_type": "stream",
     "text": [
      "Please enter the booking date (YYYY-MM-DD):  2024-10-19\n",
      "Please provide price of ticket:  2000\n"
     ]
    },
    {
     "name": "stdout",
     "output_type": "stream",
     "text": [
      "\n",
      "        Ticket price: $2000.0\n",
      "        Booking date: 2024-10-19\n",
      "        Todays date: 2024-11-29\n",
      "        Advance booking days: 41 days\n",
      "        Total discount: $200.0\n",
      "        Ticket price after discount: $1800.0\n",
      "        \n"
     ]
    }
   ],
   "source": [
    "import datetime\n",
    "\n",
    "# Getting the current date\n",
    "today = datetime.date.today()\n",
    "\n",
    "# Getting the booking date from the user\n",
    "booking_date_str = input(\"Please enter the booking date (YYYY-MM-DD): \")\n",
    "booking_date = datetime.datetime.strptime(booking_date_str, \"%Y-%m-%d\").date()\n",
    "\n",
    "# Calculating the difference in days\n",
    "days_difference = (today - booking_date).days\n",
    "\n",
    "# Getting the price from user\n",
    "ticket_price = float(input(\"Please provide price of ticket: \"))\n",
    "\n",
    "# Checking if the booking is more than 30 days in advance\n",
    "if days_difference > 30:\n",
    "    discount = ticket_price * 0.10  \n",
    "    print(f\"\"\"\n",
    "        Ticket price: ${ticket_price}\n",
    "        Booking date: {booking_date}\n",
    "        Todays date: {today}\n",
    "        Advance booking days: {days_difference} days\n",
    "        Total discount: ${discount}\n",
    "        Ticket price after discount: ${ticket_price - discount}\n",
    "        \"\"\")\n",
    "else:\n",
    "    print(f\"\"\"\n",
    "        Booking day: {booking_date}\n",
    "        Todays date: {today}\n",
    "        Advance booking days: {days_difference} days\n",
    "        Ticket price: ${ticket_price}\n",
    "        No discount availed\n",
    "        \"\"\")\n",
    "\n"
   ]
  },
  {
   "cell_type": "markdown",
   "id": "3bb5c87b-1d37-49ee-9a46-f666df9f3b3e",
   "metadata": {},
   "source": [
    "# E- Grades and Performance"
   ]
  },
  {
   "cell_type": "markdown",
   "id": "5de7041f-d17d-4e12-8e5b-9a1f9783b104",
   "metadata": {},
   "source": [
    "## 21. Pass or Fail\n",
    "If a student scores 40 or more, print &quot;Pass&quot;. Otherwise, print &quot;Fail&quot;."
   ]
  },
  {
   "cell_type": "code",
   "execution_count": 28,
   "id": "9c4c6847-15a3-4857-ac2b-c53f8dbe86f5",
   "metadata": {},
   "outputs": [
    {
     "name": "stdin",
     "output_type": "stream",
     "text": [
      "Please provide your test score:  34\n"
     ]
    },
    {
     "name": "stdout",
     "output_type": "stream",
     "text": [
      "\n",
      "            Test score: 34.0\n",
      "            Fail\n"
     ]
    }
   ],
   "source": [
    "test_score = float(input(\"Please provide your test score: \"))\n",
    "if test_score >= 40:\n",
    "    print(f\"\"\"\n",
    "            Test score: {test_score}\n",
    "            Pass\"\"\")\n",
    "else:\n",
    "        print(f\"\"\"\n",
    "            Test score: {test_score}\n",
    "            Fail\"\"\")"
   ]
  },
  {
   "cell_type": "markdown",
   "id": "b90fc91a-209d-450f-8070-12353e6d0c28",
   "metadata": {},
   "source": [
    "## 22. Grade Assignment\n",
    "Based on a student&#39;s score, assign grades:\n",
    "- 90 and above: A\n",
    "  \n",
    "- 75–89: B\n",
    "\n",
    "- 50–74: C\n",
    "\n",
    "- Below 50: F "
   ]
  },
  {
   "cell_type": "code",
   "execution_count": 39,
   "id": "bb5229a4-eb97-4a3e-93a2-3624432a4873",
   "metadata": {},
   "outputs": [
    {
     "name": "stdin",
     "output_type": "stream",
     "text": [
      "Enter marks in subject1:  45\n",
      "Enter marks in subject2:  56\n",
      "Enter marks in subject3:  65\n",
      "Enter marks in subject4:  54\n",
      "Enter marks in subject5:  56\n"
     ]
    },
    {
     "name": "stdout",
     "output_type": "stream",
     "text": [
      "\n",
      "        Subject1 : 45.0\n",
      "        Subject2 : 56.0\n",
      "        Subject3 : 65.0\n",
      "        Subject4 : 54.0\n",
      "        Subject5 : 56.0\n",
      "\n",
      "        Total Marks Obtained: 276.0\n",
      "        Percentage Obtained : 55.2\n",
      "        Grade Achieved      : C\n",
      "        Result:               Fail\n",
      "        \n",
      "\n"
     ]
    }
   ],
   "source": [
    "sub1 = float(input(\"Enter marks in subject1: \"))\n",
    "sub2 = float(input(\"Enter marks in subject2: \"))\n",
    "sub3 = float(input(\"Enter marks in subject3: \"))\n",
    "sub4 = float(input(\"Enter marks in subject4: \"))\n",
    "sub5 = float(input(\"Enter marks in subject5: \"))\n",
    "obtianed = sub1+sub2+sub3+sub4+sub5\n",
    "total  = 500\n",
    "grade = None\n",
    "percentage  = obtianed/total * 100\n",
    "result = None\n",
    "if sub1>=50:\n",
    "    if sub2>=50:\n",
    "        if sub3>=50:\n",
    "            if sub4>=50:\n",
    "                if sub5>=50:\n",
    "                   result = \"Pass\"\n",
    "                else:\n",
    "                    result = \"Fail\"\n",
    "                    \n",
    "            else:\n",
    "                result = \"Fail\"\n",
    "        else:\n",
    "            result = \"Fail\"\n",
    "    else:\n",
    "        result = \"Fail\"\n",
    "    \n",
    "else:\n",
    "    result = \"Fail\"\n",
    "\n",
    "if percentage>= 90:\n",
    "    grade = \"A\"\n",
    "elif percentage>= 75 and percentage < 90:\n",
    "    grade = \"B\"\n",
    "elif percentage>= 50 and percentage < 75:\n",
    "    grade = \"C\"    \n",
    "else:\n",
    "    grade =\"Fail\"\n",
    "\n",
    "print(f\"\"\"\n",
    "        Subject1 : {sub1}\n",
    "        Subject2 : {sub2}\n",
    "        Subject3 : {sub3}\n",
    "        Subject4 : {sub4}\n",
    "        Subject5 : {sub5}\n",
    "\n",
    "        Total Marks Obtained: {obtianed}\n",
    "        Percentage Obtained : {round(percentage,2)}\n",
    "        Grade Achieved      : {grade}\n",
    "        Result:               {result}\n",
    "        \n",
    "\"\"\")"
   ]
  },
  {
   "cell_type": "markdown",
   "id": "92a76d75-b8e4-406f-837a-846e0094b4a8",
   "metadata": {},
   "source": [
    "## 23. Bonus Marks\n",
    "If a student completes all assignments, add 5 bonus marks to their score. Otherwise, no\n",
    "bonus marks."
   ]
  },
  {
   "cell_type": "code",
   "execution_count": 64,
   "id": "5057c401-c92a-4696-a804-6fa271a7dd7c",
   "metadata": {},
   "outputs": [
    {
     "name": "stdin",
     "output_type": "stream",
     "text": [
      "Enter the number of assignments completed:  5\n",
      "Enter the original score:  40\n"
     ]
    },
    {
     "name": "stdout",
     "output_type": "stream",
     "text": [
      "\n",
      "        Bonus marks awarded: 0\n",
      "        Final score: 40\n"
     ]
    }
   ],
   "source": [
    "assignments_completed = int(input(\"Please enter the number of assignments completed: \"))\n",
    "total_assignments = 10\n",
    "if assignments_completed > total_assignments:\n",
    "    print(\"Wrong number of assignments please enter correct numbers\")\n",
    "else:\n",
    "    if assignments_completed == total_assignments:\n",
    "        original_score = int(input(\"Please enter the original score: \"))\n",
    "        bonus_marks = 5\n",
    "        final_score = original_score + bonus_marks\n",
    "        print(f\"\"\"\n",
    "        Bonus marks awarded: {bonus_marks}\n",
    "        Final score: {final_score}\"\"\")\n",
    "    else:\n",
    "        original_score = int(input(\"Please enter the original score: \"))\n",
    "        bonus_marks = 0\n",
    "        print(f\"\"\"\n",
    "        Bonus marks awarded: {bonus_marks}\n",
    "        Final score: {original_score + bonus_marks}\"\"\")\n"
   ]
  },
  {
   "cell_type": "markdown",
   "id": "3f89623e-d89c-4624-9c4e-fbd23ac2912d",
   "metadata": {},
   "source": [
    "## 24. Attendance Eligibility\n",
    "If a students attendance is 75% or more, they are eligible to take the exam. Otherwise,\n",
    "they are not."
   ]
  },
  {
   "cell_type": "code",
   "execution_count": 85,
   "id": "a9787d8a-766a-4531-9e74-f72e5fb126c0",
   "metadata": {},
   "outputs": [
    {
     "name": "stdin",
     "output_type": "stream",
     "text": [
      "Please provide number of classes attended:  19\n"
     ]
    },
    {
     "name": "stdout",
     "output_type": "stream",
     "text": [
      " \n",
      "            Total classes: 40\n",
      "            Classes attended: 19\n",
      "            Attendance percenatge: 47.5%\n",
      "            You are not eligible to take exam!\n"
     ]
    }
   ],
   "source": [
    "total_classes = 40\n",
    "classes_attended = int(input(\"Please provide number of classes attended: \"))\n",
    "attendance_percentage = classes_attended / total_classes * 100\n",
    "\n",
    "if classes_attended <= 40:\n",
    "    if attendance_percentage >= 75:\n",
    "        print(f\"\"\" \n",
    "            Total classes: {total_classes}\n",
    "            Classes attended: {classes_attended}\n",
    "            Attendance percenatge: {attendance_percentage}%\n",
    "            You are eligible to take exam!\"\"\")\n",
    "    else:\n",
    "        print(f\"\"\" \n",
    "            Total classes: {total_classes}\n",
    "            Classes attended: {classes_attended}\n",
    "            Attendance percenatge: {attendance_percentage}%\n",
    "            You are not eligible to take exam!\"\"\")\n",
    "else:\n",
    "    print(\"Wrong number of classes please provide correct numbers!\")\n"
   ]
  },
  {
   "cell_type": "markdown",
   "id": "19276748-f9a8-42bb-92a5-c08bf59e925c",
   "metadata": {},
   "source": [
    "## 25. Scholarship Eligibility\n",
    "If a students grade is A; and their annual family income is below $30,000, they are\n",
    "eligible for a scholarship. Otherwise, they are not."
   ]
  },
  {
   "cell_type": "code",
   "execution_count": 96,
   "id": "91b138fb-6588-43c7-a130-dfdf110a5bc3",
   "metadata": {},
   "outputs": [
    {
     "name": "stdin",
     "output_type": "stream",
     "text": [
      "Please provide your grade:  a\n",
      "Please provide your annual family income:  500000\n"
     ]
    },
    {
     "name": "stdout",
     "output_type": "stream",
     "text": [
      " \n",
      "            Grade: A\n",
      "            Annual family income: $500000\n",
      "            Your are not eligible for scholarship!\n"
     ]
    }
   ],
   "source": [
    "students_grade = input(\"Please provide your grade: \").upper()\n",
    "family_income = float(input(\"Please provide your annual family income: \"))\n",
    "\n",
    "if students_grade == \"A\" and family_income < 30_000:\n",
    "    print(f\"\"\" \n",
    "            Grade: {students_grade}\n",
    "            Annual family income: ${int(family_income)}\n",
    "            Your are eligible for scholarship!\"\"\")\n",
    "else:\n",
    "        print(f\"\"\" \n",
    "            Grade: {students_grade}\n",
    "            Annual family income: ${int(family_income)}\n",
    "            Your are not eligible for scholarship!\"\"\")"
   ]
  },
  {
   "cell_type": "code",
   "execution_count": null,
   "id": "3497d5c1-9f8e-46e9-94f4-e9dd327f5174",
   "metadata": {},
   "outputs": [],
   "source": []
  }
 ],
 "metadata": {
  "kernelspec": {
   "display_name": "Python 3 (ipykernel)",
   "language": "python",
   "name": "python3"
  },
  "language_info": {
   "codemirror_mode": {
    "name": "ipython",
    "version": 3
   },
   "file_extension": ".py",
   "mimetype": "text/x-python",
   "name": "python",
   "nbconvert_exporter": "python",
   "pygments_lexer": "ipython3",
   "version": "3.12.7"
  }
 },
 "nbformat": 4,
 "nbformat_minor": 5
}
