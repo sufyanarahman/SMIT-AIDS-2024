{
 "cells": [
  {
   "cell_type": "markdown",
   "id": "614d3625-4263-4ae2-9ea0-0979e8ef4af8",
   "metadata": {},
   "source": [
    "# Qustion No.1:\n",
    "## Area of a Rectangle: \n"
   ]
  },
  {
   "cell_type": "code",
   "execution_count": 9,
   "id": "a05a8b18-e229-4f79-81f6-c99ae0e38693",
   "metadata": {},
   "outputs": [],
   "source": [
    "import math"
   ]
  },
  {
   "cell_type": "code",
   "execution_count": 16,
   "id": "15c38d15-b67f-4d10-bb3c-94b9c6dd34c0",
   "metadata": {},
   "outputs": [
    {
     "name": "stdin",
     "output_type": "stream",
     "text": [
      "Please provide length 6.5\n",
      "Please provide width 4.3\n"
     ]
    },
    {
     "name": "stdout",
     "output_type": "stream",
     "text": [
      "The area of given rectangle is 27.95\n"
     ]
    }
   ],
   "source": [
    "#      formula of area = length * width\n",
    "#      taking the value of length and width from user and then coverting into float for multiplication to get area of rectangle\n",
    "area = float(input(\"Please provide length\")) * float(input(\"Please provide width\"))\n",
    "print(f\"The area of given rectangle is {area}\")"
   ]
  },
  {
   "cell_type": "markdown",
   "id": "1e7307d8-3b52-445c-854b-1e879378db40",
   "metadata": {},
   "source": [
    "# Question No.2 :\n",
    "## Circumference of a Circle:"
   ]
  },
  {
   "cell_type": "code",
   "execution_count": 18,
   "id": "0d861f58-815a-4bd7-afef-742d5b7ecdb7",
   "metadata": {},
   "outputs": [
    {
     "name": "stdin",
     "output_type": "stream",
     "text": [
      "Please provide radius of the circle 34.66\n"
     ]
    },
    {
     "name": "stdout",
     "output_type": "stream",
     "text": [
      "The circumference of given circle is 217.77520274684443\n"
     ]
    }
   ],
   "source": [
    "#    formula of circumference =  𝟐*𝝅*r\n",
    "#    using math.pi module of python to get value of pie and taking user input for radius of a circle\n",
    "circumference = 2 * math.pi * float(input(\"Please provide radius of the circle\"))\n",
    "print(f\"The circumference of given circle is {circumference}\")"
   ]
  },
  {
   "cell_type": "markdown",
   "id": "5262318e-3b4b-46f8-8bbc-5c6847c08b9b",
   "metadata": {},
   "source": [
    "# Question No.3 :\n",
    "## Simple interest"
   ]
  },
  {
   "cell_type": "code",
   "execution_count": 33,
   "id": "f73ff97e-9300-4213-80d5-57b6198c84b5",
   "metadata": {},
   "outputs": [
    {
     "name": "stdin",
     "output_type": "stream",
     "text": [
      "Please provide principal amount 18000\n",
      "Please provide interest rate 6\n",
      "Please provide time 3\n"
     ]
    },
    {
     "name": "stdout",
     "output_type": "stream",
     "text": [
      "The amount of simple interest is 3240.0\n"
     ]
    }
   ],
   "source": [
    "# forumula of simple interest = principal * rate * time or S.I. = (P × R × T)/100\n",
    "# taking user input for principal amount, rate of interest and time\n",
    "simple_interest = float(input(\"Please provide principal amount\")) * float(input(\"Please provide interest rate\"))/100 * float(input(\"Please provide time\"))\n",
    "print(f\"The amount of simple interest is {simple_interest}\")"
   ]
  },
  {
   "cell_type": "markdown",
   "id": "31a48de7-8353-4903-848e-857266bee4ab",
   "metadata": {},
   "source": [
    "# Question No.4 :\n",
    "## Speed of an Object:"
   ]
  },
  {
   "cell_type": "code",
   "execution_count": 43,
   "id": "cb2d15da-a1eb-42b1-a31d-f6eb9f44ee73",
   "metadata": {},
   "outputs": [
    {
     "name": "stdin",
     "output_type": "stream",
     "text": [
      "Please provide distance 210\n",
      "Please provide time 4\n"
     ]
    },
    {
     "name": "stdout",
     "output_type": "stream",
     "text": [
      "The speed of given object is 52.5 km/hours\n"
     ]
    }
   ],
   "source": [
    "# formula of 𝑆𝒑𝒆𝒆𝒅 = 𝑫𝒊𝒔𝒕𝒂𝒏𝒄𝒆 / 𝑻𝒊𝒎e\n",
    "# taking values of distance and time from user\n",
    "speed = float(input(\"Please provide distance\")) / float(input(\"Please provide time\"))\n",
    "print(f\"The speed of given object is {speed} km/hours\")"
   ]
  },
  {
   "cell_type": "markdown",
   "id": "667a6e7f-0634-441e-a2de-31c6b4870e3b",
   "metadata": {},
   "source": [
    "# Question No.5 :\n",
    "## BMI Calculator: \n"
   ]
  },
  {
   "cell_type": "code",
   "execution_count": 48,
   "id": "b6f4547a-f33c-4986-9045-f69bd8c390f0",
   "metadata": {},
   "outputs": [
    {
     "name": "stdin",
     "output_type": "stream",
     "text": [
      "Please provide weight in kg 56.7\n",
      "Please provide height in meters 1.79832\n"
     ]
    },
    {
     "name": "stdout",
     "output_type": "stream",
     "text": [
      "The BMI is 17.532712456979066\n"
     ]
    }
   ],
   "source": [
    "# formula of BMI = weight(kg)/(height)**2\n",
    "# taking weight in kg and height in meters from user\n",
    "bmi = float(input(\"Please provide weight in kg\"))/float(input(\"Please provide height in meters\"))**2\n",
    "print(f\"The BMI is {bmi}\")"
   ]
  },
  {
   "cell_type": "markdown",
   "id": "8f04d205-638b-41ac-b4b0-677cb4aa7dec",
   "metadata": {},
   "source": [
    "# Question No: 6\n",
    "## Force Using Newton's Second Law:\n",
    "Write a Python program to calculate the force on an object. Use the formula:\n",
    "\n",
    "   -   F = ma\n",
    "\n",
    "Take m (mass in kilograms) and a (acceleration in meters/second²) as inputs from the\n",
    "user. "
   ]
  },
  {
   "cell_type": "code",
   "execution_count": 7,
   "id": "d87ff842-0892-45ec-a45d-df1f408a1515",
   "metadata": {},
   "outputs": [
    {
     "name": "stdin",
     "output_type": "stream",
     "text": [
      "Please provide mass 56\n",
      "Please provide acceleration 46\n"
     ]
    },
    {
     "name": "stdout",
     "output_type": "stream",
     "text": [
      "The force of given object is 2576\n"
     ]
    }
   ],
   "source": [
    "# taking mass and acceleration as input from user\n",
    "mass = float(input(\"Please provide mass\"))\n",
    "acceleration = float(input(\"Please provide acceleration\"))\n",
    "\n",
    "#calculating the force\n",
    "force = mass * acceleration\n",
    "\n",
    "# printing the result\n",
    "print(f\"The force of given object is {int(force)}\")"
   ]
  },
  {
   "cell_type": "markdown",
   "id": "8373438d-438d-4e30-8260-af628e69c42c",
   "metadata": {},
   "source": [
    "# Question No:7\n",
    "## Compound Interest:\n",
    "Write a Python program to calculate compound interest. Use the formula:\n",
    "\n",
    "    - A = P(1 + r/n)^{nt}\n",
    "    \n",
    "Where:\n",
    "- A= total amount\n",
    "- P = principal amount\n",
    "- r = annual interest rate (decimal)\n",
    "- n = number of times interest is compounded per year\n",
    "- t = time in years\n",
    "- Take P, r, n, and t as inputs from the user. "
   ]
  },
  {
   "cell_type": "code",
   "execution_count": 1,
   "id": "d32462a6-ab51-4bb4-af15-50a9d8f80988",
   "metadata": {},
   "outputs": [
    {
     "name": "stdin",
     "output_type": "stream",
     "text": [
      "Please provide principal amount 200000\n",
      "Please provide interest rate 4.5\n",
      "Please provide number of times interest is compounded per year 2\n",
      "Please provide time in years 5\n"
     ]
    },
    {
     "name": "stdout",
     "output_type": "stream",
     "text": [
      "The amount of compound interest is 249840.69 rupees\n"
     ]
    }
   ],
   "source": [
    "# taking values of p,r,n and t from user \n",
    "principle_amount = float(input(\"Please provide principal amount\"))\n",
    "interest_rate = float(input(\"Please provide interest rate\"))/100 # dividing by 100 to get rate in decimals\n",
    "interest_compounding_year = float(input(\"Please provide number of times interest is compounded per year\"))\n",
    "time_years = float(input(\"Please provide time in years\"))\n",
    "\n",
    "# calculating compound interest using given formula\n",
    "total_amount = principle_amount*(1 + interest_rate/interest_compounding_year)**(interest_compounding_year * time_years)\n",
    "\n",
    "# printing the result\n",
    "print(f\"The amount of compound interest is {round(total_amount,2)} rupees\")\n"
   ]
  },
  {
   "cell_type": "markdown",
   "id": "2a758fe4-13d6-42a7-bff3-20d9cc5fef84",
   "metadata": {},
   "source": [
    "# Question No.8:\n",
    "## Perimeter of a Triangle:\n",
    "\n",
    "Write a Python program to calculate the perimeter of a triangle. Use the formula:\n",
    "\n",
    "  - 𝑷𝒆𝒓𝒊𝒎𝒆𝒕𝒆𝒓 = 𝒂 + 𝒃 + 𝒄\n",
    "    \n",
    "Take a, b, and c (lengths of the three sides) as inputs from the user.\n"
   ]
  },
  {
   "cell_type": "code",
   "execution_count": 20,
   "id": "31819caa-52f0-4b32-9614-c7229d952d55",
   "metadata": {},
   "outputs": [
    {
     "name": "stdin",
     "output_type": "stream",
     "text": [
      "Please provide length of side a 4\n",
      "Please provide length of side b 6\n",
      "Please provide length of side c 9\n"
     ]
    },
    {
     "name": "stdout",
     "output_type": "stream",
     "text": [
      "The perimeter of given triangle is 19\n"
     ]
    }
   ],
   "source": [
    "# taking length of three sides form user\n",
    "perimeter = float(input(\"Please provide length of side a\")) + float(input(\"Please provide length of side b\")) + float(input(\"Please provide length of side c\"))\n",
    "# printing the result\n",
    "print(f\"The perimeter of given triangle is {int(perimeter)}\")"
   ]
  },
  {
   "cell_type": "markdown",
   "id": "04ab6dcd-70ca-4246-940f-665c31b6ee6e",
   "metadata": {},
   "source": [
    "# Question No.9:\n",
    "## Volume of a Sphere:\n",
    "Write a Python program to calculate the volume of a sphere. Use the formula:\n",
    "\n",
    "   - V=4/3πr^3\n",
    "     \n",
    "Take r (radius) as input from the user. "
   ]
  },
  {
   "cell_type": "code",
   "execution_count": 26,
   "id": "ed59453e-cf53-47b4-bcdd-3c1e16c31bc4",
   "metadata": {},
   "outputs": [
    {
     "name": "stdin",
     "output_type": "stream",
     "text": [
      "Please provide radius of the sphere 3.4\n"
     ]
    },
    {
     "name": "stdout",
     "output_type": "stream",
     "text": [
      "Volume of the given sphere is 164.64\n"
     ]
    }
   ],
   "source": [
    "import math\n",
    "# taking value of radius from user\n",
    "radius = float(input(\"Please provide radius of the sphere\"))\n",
    "\n",
    "# calculating the volume by given formula\n",
    "volume = 4/3 * math.pi * radius ** 3\n",
    "\n",
    "# printing the result\n",
    "print(f\"Volume of the given sphere is {round(volume,2)}\")"
   ]
  },
  {
   "cell_type": "markdown",
   "id": "11039138-2b7d-42e6-9137-ac5d569f1a3e",
   "metadata": {},
   "source": [
    "# Question No.10:\n",
    "## Kinetic Energy:\n",
    "\n",
    "Write a Python program to calculate the kinetic energy of an object. Use the formula:\n",
    "\n",
    "      - 𝑲𝑬 = 1/2mV^2\n",
    "\n",
    "Take m (mass in kilograms) and v (velocity in meters/second) as inputs from the user. \n"
   ]
  },
  {
   "cell_type": "code",
   "execution_count": 31,
   "id": "647f476e-4ab2-45a3-be18-307cccea120c",
   "metadata": {},
   "outputs": [
    {
     "name": "stdin",
     "output_type": "stream",
     "text": [
      "Please provide mass in kg 75.6\n",
      "Please provide velocity in meters/second 200\n"
     ]
    },
    {
     "name": "stdout",
     "output_type": "stream",
     "text": [
      "Kinetic energy of the given object is 1512000.0 joules\n"
     ]
    }
   ],
   "source": [
    "# taking value of mass and velocity from user\n",
    "mass_kg = float(input(\"Please provide mass in kg\"))\n",
    "velocity_ms = float(input(\"Please provide velocity in meters/second\"))\n",
    "\n",
    "# calculting kinetic energy \n",
    "kinetic_energy = 1/2 * mass_kg * velocity_ms **2\n",
    "\n",
    "# printing result\n",
    "print(f\"Kinetic energy of the given object is {round(kinetic_energy,2)} joules\")"
   ]
  },
  {
   "cell_type": "markdown",
   "id": "69659ff0-8298-44d2-9bf4-bab862c361cf",
   "metadata": {},
   "source": [
    "# Question No.11:\n",
    "## Quadratic Equation Roots:\n",
    "Write a Python program to find the roots of a quadratic equation. Use the formula:\n",
    "\n",
    "    - x = -b+-√b^2-4ac/2a\n",
    "\n",
    "Take a, b, and c as inputs from the user."
   ]
  },
  {
   "cell_type": "code",
   "execution_count": 120,
   "id": "25422dfe-9512-43f7-80c3-5559e01a959a",
   "metadata": {},
   "outputs": [
    {
     "name": "stdin",
     "output_type": "stream",
     "text": [
      "Please provide value of a 3\n",
      "Please provide value of b 6\n",
      "Please provide value of c 1\n"
     ]
    },
    {
     "name": "stdout",
     "output_type": "stream",
     "text": [
      "Roots of given quadratic equation are X1:-0.18 and X2:-1.82\n"
     ]
    }
   ],
   "source": [
    "import math\n",
    "\n",
    "# taking value of a,b and c from user\n",
    "a = float(input(\"Please provide value of a\"))\n",
    "b = float(input(\"Please provide value of b\"))\n",
    "c = float(input(\"Please provide value of c\"))\n",
    "\n",
    "# calculating discriminant value\n",
    "discriminant = b ** 2 - 4 * a * c\n",
    "\n",
    "# checking if discriminant(b^2 -4ac) is < 0 ( have two complex roots)\n",
    "if discriminant < 0:\n",
    "    # math.sqrt() function cannot handle negative numbers\n",
    "    # using subtraction operator ( - ) inside math.sqrt() to convert negative discriminant( two complex roots) into positive discriminant( two real roots )\n",
    "    roots_1 = (- b + math.sqrt(- discriminant)) / (2 * a)\n",
    "    roots_2 = (- b - math.sqrt(- discriminant)) / (2 * a)\n",
    "    print(f\"Roots of given quadratic equation are X1:{round(roots_1,2)} and X2:{round(roots_2,2)}\")\n",
    "else: \n",
    "    # if discriminant(b^2 -4ac) is > 0 ( have two real roots)\n",
    "    roots_1 = (- b + math.sqrt(discriminant)) / (2 * a)\n",
    "    roots_2 = (- b - math.sqrt(discriminant)) / (2 * a)\n",
    "    print(f\"Roots of given quadratic equation are X1:{round(roots_1,2)} and X2:{round(roots_2,2)}\")"
   ]
  },
  {
   "cell_type": "markdown",
   "id": "6590acf7-c520-4434-8d69-c997775176b3",
   "metadata": {},
   "source": [
    "# Question No.:12\n",
    "## Temperature Conversion:\n",
    "Write a Python program to convert a temperature from Celsius to Fahrenheit. Use the\n",
    "\n",
    "       - formula: F = 9/5 * C +32\n",
    "       \n",
    "Take C (temperature in Celsius) as input from the user"
   ]
  },
  {
   "cell_type": "code",
   "execution_count": 4,
   "id": "9c3390a7-e7ec-4352-8be1-e06aac7ca247",
   "metadata": {},
   "outputs": [
    {
     "name": "stdin",
     "output_type": "stream",
     "text": [
      "Please provide temperature in celsius 34\n"
     ]
    },
    {
     "name": "stdout",
     "output_type": "stream",
     "text": [
      "Temperature in fahrenhiet is 93.2°F\n"
     ]
    }
   ],
   "source": [
    "# taking celsius from user\n",
    "temp_celsius = float(input(\"Please provide temperature in celsius\")) # C\n",
    "\n",
    "# calculating temperature in fahrenhiet\n",
    "temp_fahren = 9/5 * temp_celsius + 32\n",
    "\n",
    "#printing result\n",
    "print(f\"Temperature in fahrenhiet is {temp_fahren}°F\")"
   ]
  },
  {
   "cell_type": "markdown",
   "id": "166aa1ee-84e7-43f3-aa91-97853b54d9a8",
   "metadata": {},
   "source": [
    "# Question No.13:\n",
    "## Gravitational Force:\n",
    "Write a Python program to calculate the gravitational force between two objects. Use\n",
    "the formula\n",
    "\n",
    "            - F = g(m1 * m2/r^2)\n",
    "            \n",
    "m1, m2 are the masses of the objects\n",
    "r = distance between the centers of the objects\n",
    "Take m1, m2 and r as inputs from the user."
   ]
  },
  {
   "cell_type": "code",
   "execution_count": 20,
   "id": "f6772c3c-621c-4418-bfb4-02688027d7ac",
   "metadata": {},
   "outputs": [
    {
     "name": "stdin",
     "output_type": "stream",
     "text": [
      "Please provide mass of object 1 40000\n",
      "Please provide mass of object 2 50000\n",
      "Please provide distance between the centers of the object 36\n"
     ]
    },
    {
     "name": "stdout",
     "output_type": "stream",
     "text": [
      "The gravitational force between 2 objects is 0.0001029783950617284 N\n"
     ]
    }
   ],
   "source": [
    "# taking values of m1,m2 and r from user\n",
    "mass_1 = float(input(\"Please provide mass of object 1\")) # m1\n",
    "mass_2 = float(input(\"Please provide mass of object 2\")) # m2\n",
    "distance = float(input(\"Please provide distance between the centers of the object\")) # r\n",
    "# setting varaible for gravitational constant g\n",
    "gravitational_cons =6.673*(10**-11) # g\n",
    "\n",
    "# calculating gravitational force\n",
    "force = gravitational_cons * (mass_1 * mass_2 / distance ** 2)\n",
    "\n",
    "# printing result\n",
    "print(f\"The gravitational force between 2 objects is {force} N\")"
   ]
  },
  {
   "cell_type": "markdown",
   "id": "0324a1c9-2af2-4e9c-a4f8-ff3b833b30f5",
   "metadata": {},
   "source": [
    "# Question No.14\n",
    "## Volume of a Cylinder:\n",
    "Write a Python program to calculate the volume of a cylinder. Use the formula:\n",
    "\n",
    "          - 𝑽𝒐𝒍𝒖𝒎𝒆 = 𝝅𝒓^𝟐𝒉\n",
    "\n",
    "Take radius(r) and height(h) as inputs from the user"
   ]
  },
  {
   "cell_type": "code",
   "execution_count": 31,
   "id": "d9caba8f-672b-40ef-b8dc-f63bf69b368f",
   "metadata": {},
   "outputs": [
    {
     "name": "stdin",
     "output_type": "stream",
     "text": [
      "Please provide radius 6\n",
      "Please provide height 3\n"
     ]
    },
    {
     "name": "stdout",
     "output_type": "stream",
     "text": [
      "The volume of given cylinder is 339.29\n"
     ]
    }
   ],
   "source": [
    "import math\n",
    "# taking values of radius and height from user\n",
    "radius = float(input(\"Please provide radius\"))\n",
    "height = float(input(\"Please provide height\"))\n",
    "\n",
    "# calculating volume of cylinder by given formula\n",
    "volume = math.pi * radius ** 2 * height\n",
    "\n",
    "# printing the result\n",
    "print(f\"The volume of given cylinder is {round(volume,2)}\")"
   ]
  },
  {
   "cell_type": "markdown",
   "id": "882fe640-8382-4127-a3ed-7e1aeaa9e7f8",
   "metadata": {},
   "source": [
    "# Question No.15:\n",
    "## Pressure:\n",
    "Write a Python program to calculate the pressure exerted by a force on a surface. Use\n",
    "the formula:\n",
    "\n",
    "        - P = F/A\n",
    "\n",
    "P = pressure\n",
    "F = force\n",
    "A = area\n",
    "Take F(force) and A(area) as inputs from the user."
   ]
  },
  {
   "cell_type": "code",
   "execution_count": 38,
   "id": "9f70036f-43db-4a0d-9072-8c2c9973b079",
   "metadata": {},
   "outputs": [
    {
     "name": "stdin",
     "output_type": "stream",
     "text": [
      "Please provide force 100\n",
      "Please provide area 45\n"
     ]
    },
    {
     "name": "stdout",
     "output_type": "stream",
     "text": [
      "Pressure exerted by a force on a surface is 2.22 Pa\n"
     ]
    }
   ],
   "source": [
    "# taking values of force and area from user\n",
    "force = float(input(\"Please provide force\")) # F\n",
    "area = float(input(\"Please provide area\")) # A\n",
    "\n",
    "# calculating pressure by given formula\n",
    "pressure = force / area\n",
    "\n",
    "# printing result\n",
    "print(f\"Pressure exerted by a force on a surface is {round(pressure,2)} Pa\")"
   ]
  },
  {
   "cell_type": "markdown",
   "id": "9916032a-8efc-4da6-900e-5e5a1253db9e",
   "metadata": {},
   "source": [
    "# Question No.16:\n",
    "## Electric Power:\n",
    "Write a Python program to calculate the electric power consumed. Use the formula:\n",
    "\n",
    "          - P = V / I\n",
    "\n",
    "where:\n",
    "P = power\n",
    "V = voltage\n",
    "I = current\n",
    "Take V(voltage) and I(current) as inputs from the user.\n"
   ]
  },
  {
   "cell_type": "code",
   "execution_count": 44,
   "id": "5b342326-4c3f-4155-985a-a7a9b763c4df",
   "metadata": {},
   "outputs": [
    {
     "name": "stdin",
     "output_type": "stream",
     "text": [
      "Please provide voltage 45\n",
      "Please provide current 6\n"
     ]
    },
    {
     "name": "stdout",
     "output_type": "stream",
     "text": [
      "Electric power consumed is 7.5 ohms\n"
     ]
    }
   ],
   "source": [
    "# taking values of voltage and current from user\n",
    "voltage = float(input(\"Please provide voltage\")) # V\n",
    "current = float(input(\"Please provide current\")) # I\n",
    "\n",
    "# calculating electric power consumed by given formula\n",
    "power_consumed = voltage / current\n",
    "\n",
    "# printing the result\n",
    "print(f\"Electric power consumed is {power_consumed} ohms\")"
   ]
  },
  {
   "cell_type": "markdown",
   "id": "041e868d-fa6d-4357-8fe8-40e975e81723",
   "metadata": {},
   "source": [
    "# Question No.17:\n",
    "## Perimeter of a Circle (Circumference):\n",
    "Write a Python program to calculate the perimeter (circumference) of a circle. Use the\n",
    "formula:\n",
    "\n",
    "             - P = 2πr\n",
    "Take r (radius) as input from the user. "
   ]
  },
  {
   "cell_type": "code",
   "execution_count": 54,
   "id": "1c052198-f489-4ff3-8534-b042f4458b32",
   "metadata": {},
   "outputs": [
    {
     "name": "stdin",
     "output_type": "stream",
     "text": [
      "Please provide radius 4\n"
     ]
    },
    {
     "name": "stdout",
     "output_type": "stream",
     "text": [
      "Perimeter of the given circle is 25.13 inches\n"
     ]
    }
   ],
   "source": [
    "import math\n",
    "# taking value of radius from user\n",
    "radius = float(input(\"Please provide radius\"))\n",
    "\n",
    "# calculating perimeter of a circle using given formula\n",
    "perimeter_circle = 2 * math.pi * radius\n",
    "\n",
    "# printing result\n",
    "print(f\"Perimeter of the given circle is {round(perimeter_circle,2)} inches\")"
   ]
  },
  {
   "cell_type": "markdown",
   "id": "8257be15-a481-4e5d-8c7e-5e16098c1e6a",
   "metadata": {},
   "source": [
    "# Question No.18:\n",
    "## Future Value in Savings:\n",
    "Write a Python program to calculate the future value of an investment. Use the formula:\n",
    "\n",
    "              - FV = PV(1 + r)^t\n",
    "\n",
    "where:\n",
    "\n",
    " - FV= future value\n",
    " - PV= present value\n",
    " - r= annual interest rate (as a decimal)\n",
    " - t= time in years\n",
    "   \n",
    "Take PV, r, and t as inputs from the user. \n"
   ]
  },
  {
   "cell_type": "code",
   "execution_count": 63,
   "id": "89a1004c-a763-4ddd-be3d-ff6f8ac8f190",
   "metadata": {},
   "outputs": [
    {
     "name": "stdin",
     "output_type": "stream",
     "text": [
      "Please provide present value 200000\n",
      "Please provide interest rate 6.5\n",
      "Please provide time in years 5\n"
     ]
    },
    {
     "name": "stdout",
     "output_type": "stream",
     "text": [
      "Future value of the investment is 274017.33 rupees\n"
     ]
    }
   ],
   "source": [
    "# taking values of pv,r and t from user\n",
    "present_value = float(input(\"Please provide present value\")) # PV\n",
    "interest_rate = float(input(\"Please provide interest rate\"))/100 # dividing by 100 to get decimal value # r\n",
    "time_years = float(input(\"Please provide time in years\")) # t\n",
    "\n",
    "# calculating future value of investment using given formula\n",
    "future_value_investment = present_value * (1 + interest_rate) ** time_years\n",
    "\n",
    "# printing result\n",
    "print(f\"Future value of the investment is {round(future_value_investment,2)} rupees\")"
   ]
  },
  {
   "cell_type": "markdown",
   "id": "31d9095f-0a64-452f-af96-3a7c82e840fa",
   "metadata": {},
   "source": [
    "# Qustion No.19:\n",
    "## Work Done by a Force:\n",
    "Write a Python program to calculate the work done by a force. Use the formula:\n",
    "\n",
    "             - W = f * d * Cosθ\n",
    "\n",
    "where:\n",
    "\n",
    " - W = work done\n",
    " - f= force\n",
    " - d = distance\n",
    " - theta = angle between force and direction of movement (in degrees)\n",
    "   \n",
    "Take f, d, and θ as inputs from the user."
   ]
  },
  {
   "cell_type": "code",
   "execution_count": 79,
   "id": "6fcc5aa2-2d12-47c1-bb80-0da78e7a2e72",
   "metadata": {},
   "outputs": [
    {
     "name": "stdin",
     "output_type": "stream",
     "text": [
      "Please provide value of force 56\n",
      "Please provide value of distance 10\n",
      "Please provide value of theta 45\n"
     ]
    },
    {
     "name": "stdout",
     "output_type": "stream",
     "text": [
      "work done by the given force is 294.1803 J\n"
     ]
    }
   ],
   "source": [
    "import math\n",
    "# taking values of force,distance and theta from user\n",
    "force = float(input(\"Please provide value of force\"))\n",
    "distance = float(input(\"Please provide value of distance\"))\n",
    "theta = float(input(\"Please provide value of theta\"))\n",
    "\n",
    "# calculating work done by given formula\n",
    "work_done = force * distance * math.cos(theta)\n",
    "\n",
    "#printing the result\n",
    "print(f\"work done by the given force is {round(work_done,4)} J\")"
   ]
  },
  {
   "cell_type": "markdown",
   "id": "a38ce57c-ad4a-41bb-bd15-ed6b335a63c1",
   "metadata": {},
   "source": [
    "# Question No.20:\n",
    "## Heat Transfer:\n",
    "Write a Python program to calculate the amount of heat transferred. Use the formula:\n",
    "\n",
    "      - 𝑄 = 𝑚𝑐 (∆T)\n",
    "\n",
    "where:\n",
    "\n",
    " - Q= heat transfer \n",
    " - m = mass\n",
    " - c = specific heat capacity\n",
    " - ΔT = Change in temperature\n",
    " - \n",
    "Take m, c, T as inputs from the user."
   ]
  },
  {
   "cell_type": "code",
   "execution_count": 3,
   "id": "c0ec03f8-b20d-477d-92a8-89dced05aba9",
   "metadata": {},
   "outputs": [
    {
     "name": "stdin",
     "output_type": "stream",
     "text": [
      "Please provide value of mass 56\n",
      "Please provide value of specific heat capacity 0.56\n",
      "Please provide value of initial temperature 45\n",
      "Please provide value of final temperature 56\n"
     ]
    },
    {
     "name": "stdout",
     "output_type": "stream",
     "text": [
      "The amount of heat transferred is 344.96 millijoules\n"
     ]
    }
   ],
   "source": [
    "# taking values of m,c and t from user\n",
    "mass = float(input(\"Please provide value of mass\")) # m\n",
    "heat_capacity = float(input(\"Please provide value of specific heat capacity\")) # c\n",
    "temperature_1 = float(input(\"Please provide value of initial temperature\")) # T1\n",
    "temperature_2 = float(input(\"Please provide value of final temperature\")) # T2\n",
    "change_in_temp = temperature_2 - temperature_1 # ΔT\n",
    "\n",
    "# calculating amount of heat transferred using given formula\n",
    "heat_transfer = mass * heat_capacity * change_in_temp\n",
    "0.45\n",
    "# printing the result \n",
    "print(f\"The amount of heat transferred is {round(heat_transfer,3)} millijoules\")"
   ]
  },
  {
   "cell_type": "code",
   "execution_count": null,
   "id": "f259b1a1-0101-4c57-b6a5-143eae2e038b",
   "metadata": {},
   "outputs": [],
   "source": []
  }
 ],
 "metadata": {
  "kernelspec": {
   "display_name": "Python 3 (ipykernel)",
   "language": "python",
   "name": "python3"
  },
  "language_info": {
   "codemirror_mode": {
    "name": "ipython",
    "version": 3
   },
   "file_extension": ".py",
   "mimetype": "text/x-python",
   "name": "python",
   "nbconvert_exporter": "python",
   "pygments_lexer": "ipython3",
   "version": "3.12.7"
  }
 },
 "nbformat": 4,
 "nbformat_minor": 5
}
