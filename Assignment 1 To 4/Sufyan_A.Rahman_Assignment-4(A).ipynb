{
 "cells": [
  {
   "cell_type": "markdown",
   "id": "a3a9f961-7cb0-4a50-8f9a-c130e1e2720a",
   "metadata": {},
   "source": [
    "# Conditional Structures"
   ]
  },
  {
   "cell_type": "markdown",
   "id": "db45adcb-fcdd-4b93-97d3-4a251878300a",
   "metadata": {},
   "source": [
    "1. Write a program that prompts the user to input a number and display if the number\n",
    "is even or odd."
   ]
  },
  {
   "cell_type": "code",
   "execution_count": 12,
   "id": "2ef7560c-249e-4940-bf3b-ae0c7e99cb0e",
   "metadata": {},
   "outputs": [
    {
     "name": "stdin",
     "output_type": "stream",
     "text": [
      "Please provide a number:  45789\n"
     ]
    },
    {
     "name": "stdout",
     "output_type": "stream",
     "text": [
      "45789 is Odd number\n"
     ]
    }
   ],
   "source": [
    "user_input = float(input(\"Please provide a number: \"))\n",
    "\n",
    "if user_input % 2 == 0:\n",
    "    print(f\"{int(user_input)} is Even number\")\n",
    "else:\n",
    "    print(f\"{int(user_input)} is Odd number\")"
   ]
  },
  {
   "cell_type": "markdown",
   "id": "c28602a2-559c-4500-a535-0d1c55716f1d",
   "metadata": {},
   "source": [
    "2. Write a Python program that takes an age as input and determines whether a person\n",
    "is eligible to vote. If the age is 18 or above, print \"You are eligible to vote.\" Otherwise,\n",
    "print \"You are not eligible to vote yet.\"."
   ]
  },
  {
   "cell_type": "code",
   "execution_count": 21,
   "id": "98b7e2cc-81bf-4cbe-8a1d-aca35af2f6b5",
   "metadata": {},
   "outputs": [
    {
     "name": "stdin",
     "output_type": "stream",
     "text": [
      "Please enter your age:  18\n"
     ]
    },
    {
     "name": "stdout",
     "output_type": "stream",
     "text": [
      "You are eligible to vote\n"
     ]
    }
   ],
   "source": [
    "age = int(input(\"Please enter your age: \"))\n",
    "\n",
    "if age >= 18:\n",
    "    print(\"You are eligible to vote\")\n",
    "else:\n",
    "    print(\"You are not eligible to vote\")"
   ]
  },
  {
   "cell_type": "markdown",
   "id": "3ea92b0b-9c77-4ee3-be11-40661d3d5a3f",
   "metadata": {},
   "source": [
    "3. Write a program that prompts the user to input two integers and outputs the largest."
   ]
  },
  {
   "cell_type": "code",
   "execution_count": 70,
   "id": "5e09fc5b-7063-4ac5-bc22-7e570c0af0e8",
   "metadata": {},
   "outputs": [
    {
     "name": "stdin",
     "output_type": "stream",
     "text": [
      "Please enter two integers:  3,2\n"
     ]
    },
    {
     "name": "stdout",
     "output_type": "stream",
     "text": [
      "3 is the largest integer of the integers given\n"
     ]
    }
   ],
   "source": [
    "two_integers = input(\"Please enter two integers: \").split(\",\") # using split to take multiple inputs from users with comma separator\n",
    "largest_num = 0\n",
    "# using for loops to take each value from the list two_integers\n",
    "for integer in two_integers: \n",
    "    # converting each value into int and storing in num variable\n",
    "    num = int(integer)\n",
    "    # checking if each value of list is greaterthan largest_num\n",
    "    if num > largest_num:\n",
    "        largest_num = num # assigning largest int to largest number\n",
    "    else:\n",
    "        largest_num\n",
    "\n",
    "print(f\"{largest_num} is the largest integer of the integers given\")"
   ]
  },
  {
   "cell_type": "markdown",
   "id": "050ff22e-0ea7-4713-8564-b17e8367e599",
   "metadata": {},
   "source": [
    "4. Write a program that prompts the user to enter a number and determines whether it\n",
    "is positive, negative, or zero. The program should print \"Positive\" if the number is\n",
    "greater than 0, \"Negative\" if the number is less than 0, and \"Zero\" if the number is 0."
   ]
  },
  {
   "cell_type": "code",
   "execution_count": 81,
   "id": "e7398515-b334-491f-8866-efbec5bffa88",
   "metadata": {},
   "outputs": [
    {
     "name": "stdin",
     "output_type": "stream",
     "text": [
      "Please enter a number:  -2\n"
     ]
    },
    {
     "name": "stdout",
     "output_type": "stream",
     "text": [
      "-2 is negative\n"
     ]
    }
   ],
   "source": [
    "num = int(input(\"Please enter a number: \"))\n",
    "\n",
    "if num > 0:\n",
    "    print(f\"{num} is Positive\")\n",
    "elif num < 0:\n",
    "    print(f\"{num} is negative\")\n",
    "else:\n",
    "    print(f\"{num} is zero\")"
   ]
  },
  {
   "cell_type": "markdown",
   "id": "e498ab77-85f1-48b0-9f90-ed45228f4df0",
   "metadata": {},
   "source": [
    "5. Write a program that prompts the user to enter their age and prints the\n",
    "corresponding age group. The program should use the following age groups:\n",
    "0-12: Child\n",
    "13-19: Teenager\n",
    "20-59: Adult\n",
    "60 and above: Senior Citizen"
   ]
  },
  {
   "cell_type": "code",
   "execution_count": 100,
   "id": "fdfcd517-ca32-46c3-8729-79d22d8cafe7",
   "metadata": {},
   "outputs": [
    {
     "name": "stdin",
     "output_type": "stream",
     "text": [
      "Please enter your age:  46\n"
     ]
    },
    {
     "name": "stdout",
     "output_type": "stream",
     "text": [
      " \n",
      "            Age: 46\n",
      "            Adult\n"
     ]
    }
   ],
   "source": [
    "age = int(input(\"Please enter your age: \"))\n",
    "\n",
    "if age >= 60:\n",
    "    print(f\"\"\" \n",
    "            Age: {age}\n",
    "            Senior Citizen\"\"\")\n",
    "elif age >= 20:\n",
    "        print(f\"\"\" \n",
    "            Age: {age}\n",
    "            Adult\"\"\")\n",
    "elif age >= 13:\n",
    "        print(f\"\"\" \n",
    "            Age: {age}\n",
    "            Teenager\"\"\")\n",
    "else:\n",
    "        print(f\"\"\" \n",
    "            Age: {age}\n",
    "            Child\"\"\")"
   ]
  },
  {
   "cell_type": "markdown",
   "id": "51ad74bb-af29-48ab-b024-e8e3429b8993",
   "metadata": {},
   "source": [
    "6. Write a program that prompts the user to input a number from 1 to 7. The program\n",
    "should display the corresponding day for the given number. For example, if the user\n",
    "types 1, the output should be Sunday. If the user types 7, the output should be\n",
    "Saturday. If the number is not between 1 to 7 user should get error message as shown\n",
    "in sample output."
   ]
  },
  {
   "cell_type": "code",
   "execution_count": 145,
   "id": "ef90de73-6e2f-42f6-a553-38a4e67418c5",
   "metadata": {},
   "outputs": [
    {
     "name": "stdin",
     "output_type": "stream",
     "text": [
      "Please enter a number between 1 to 7:  12\n"
     ]
    },
    {
     "name": "stdout",
     "output_type": "stream",
     "text": [
      "Invalid responce!, please enter a number from 1 to 7\n"
     ]
    }
   ],
   "source": [
    "number = int(input(\"Please enter a number between 1 to 7: \"))\n",
    "\n",
    "if number not in range(1,8):\n",
    "    print(\"Invalid responce!, please enter a number from 1 to 7\")\n",
    "else:\n",
    "    if number == 1:\n",
    "        print(\"Sunday\")\n",
    "    elif number == 2:\n",
    "        print(\"Monday\")\n",
    "    elif number == 3:\n",
    "        print(\"Tuesday\")\n",
    "    elif number == 4:\n",
    "        print(\"Wednesday\")\n",
    "    elif number == 5:\n",
    "        print(\"Thursday\")\n",
    "    elif number == 6:\n",
    "        print(\"Friday\")\n",
    "    else:\n",
    "        print(\"Saturday\")\n",
    "        "
   ]
  },
  {
   "cell_type": "markdown",
   "id": "2189d85c-16cc-4fc6-ba4e-7893bb359151",
   "metadata": {},
   "source": [
    "7. Write a program that prompts the user to enter their weight (in kilograms) and height\n",
    "(in meters). The program should calculate the Body Mass Index (BMI) using the formula:\n",
    "BMI = weight / (height ** 2). The program should then classify the BMI into one of\n",
    "the following categories:\n",
    "less than 18.5 - Underweight\n",
    "BMI between 18.5 and 24.9 - Normal weight\n",
    "BMI between 25 and 29.9 - Overweight\n",
    "BMI 30 or greater - Obesity"
   ]
  },
  {
   "cell_type": "code",
   "execution_count": 168,
   "id": "596bb96d-2c5b-486e-bd75-de877c41907a",
   "metadata": {},
   "outputs": [
    {
     "name": "stdin",
     "output_type": "stream",
     "text": [
      "Please enter your weight in Kg:  100\n",
      "Please enter your height in meters:  1.789\n"
     ]
    },
    {
     "name": "stdout",
     "output_type": "stream",
     "text": [
      " \n",
      "            BMI: 31.245\n",
      "            Category: Obesity\n"
     ]
    }
   ],
   "source": [
    "weight = float(input(\"Please enter your weight in Kg: \"))\n",
    "height = float(input(\"Please enter your height in meters: \"))\n",
    "# calculating bmi\n",
    "bmi = weight / height ** 2\n",
    "\n",
    "if bmi >= 30:\n",
    "    print(f\"\"\" \n",
    "            BMI: {round(bmi,3)}\n",
    "            Category: Obesity\"\"\")\n",
    "elif bmi >= 25:\n",
    "        print(f\"\"\" \n",
    "            BMI: {round(bmi,3)}\n",
    "            Category: Overweight\"\"\")\n",
    "elif bmi >= 18.5:\n",
    "        print(f\"\"\" \n",
    "            BMI: {round(bmi,3)}\n",
    "            Category: Normal Weight\"\"\")\n",
    "else:\n",
    "        print(f\"\"\" \n",
    "            BMI: {round(bmi,3)}\n",
    "            Category: Under Weight\"\"\")\n"
   ]
  },
  {
   "cell_type": "markdown",
   "id": "70b8804b-1d45-4eb8-839e-975c18717605",
   "metadata": {},
   "source": [
    "8. The marks obtained by a student in 3 different subjects are input by the user. Your\n",
    "program should calculate the average of subjects and display the grade. The student\n",
    "gets a grade as per the following rules:\n",
    "\n",
    "Average Grade\n",
    "\n",
    "- 90-100 A\n",
    "- 80-89 B\n",
    "- 70-79 C\n",
    "- 60-69 D\n",
    "- 0-59 F"
   ]
  },
  {
   "cell_type": "code",
   "execution_count": 203,
   "id": "34dd14eb-68b0-4e9e-8613-f10915eae0ca",
   "metadata": {},
   "outputs": [
    {
     "name": "stdin",
     "output_type": "stream",
     "text": [
      "Please enter marks in subject 1:  56\n",
      "Please enter marks in subject 2:  67\n",
      "Please enter marks in subject 3:  90\n"
     ]
    },
    {
     "name": "stdout",
     "output_type": "stream",
     "text": [
      " \n",
      "                Total Marks: 300\n",
      "                Obtained Marks: 213.0\n",
      "                Average Marks: 71.0\n",
      "                Grade: C\n"
     ]
    }
   ],
   "source": [
    "subj_1 = float(input(\"Please enter marks in subject 1: \"))\n",
    "subj_2 = float(input(\"Please enter marks in subject 2: \"))\n",
    "subj_3 = float(input(\"Please enter marks in subject 3: \"))\n",
    "total_marks = 300\n",
    "obtained_marks = subj_1+subj_2+subj_3\n",
    "average_marks = round(obtained_marks / total_marks * 100,2)\n",
    "\n",
    "if average_marks >=90:\n",
    "    print(f\"\"\" \n",
    "                Total Marks: {total_marks}\n",
    "                Obtained Marks: {obtained_marks}\n",
    "                Average Marks: {average_marks}\n",
    "                Grade: A\"\"\")\n",
    "elif average_marks >= 80:\n",
    "    print(f\"\"\" \n",
    "                Total Marks: {total_marks}\n",
    "                Obtained Marks: {obtained_marks}\n",
    "                Average Marks: {average_marks}\n",
    "                Grade: B\"\"\")\n",
    "elif average_marks >= 70:\n",
    "    print(f\"\"\" \n",
    "                Total Marks: {total_marks}\n",
    "                Obtained Marks: {obtained_marks}\n",
    "                Average Marks: {average_marks}\n",
    "                Grade: C\"\"\")\n",
    "elif average_marks >= 60:\n",
    "     print(f\"\"\" \n",
    "                Total Marks: {total_marks}\n",
    "                Obtained Marks: {obtained_marks}\n",
    "                Average Marks: {average_marks}\n",
    "                Grade: D\"\"\")\n",
    "else:\n",
    "        \n",
    "     print(f\"\"\" \n",
    "                Total Marks: {total_marks}\n",
    "                Obtained Marks: {obtained_marks}\n",
    "                Average Marks: {average_marks}\n",
    "                Grade: F\"\"\")\n",
    "\n"
   ]
  },
  {
   "cell_type": "markdown",
   "id": "c8a7dc1b-2d81-43c3-b2d9-e3952fd1a829",
   "metadata": {},
   "source": [
    "9. The roots of the quadratic equation ax2\n",
    "\n",
    "+ bx + c = 0, a ≠ 0 are given by the following\n",
    "\n",
    "formula:\n",
    "\n",
    "    x = (-b ± √ (b² – 4ac) )/2a\n",
    "\n",
    "In this formula, the term b2\n",
    "\n",
    "- 4ac is called the discriminant. If b2\n",
    "\n",
    "- 4ac = 0, then the\n",
    "\n",
    "equation has two equal roots.\n",
    "If b2\n",
    "- 4ac > 0, the equation has two real roots. If b2\n",
    "\n",
    "- 4ac < 0, the equation has two\n",
    "\n",
    "complex roots.\n",
    "Write a program that prompts the user to input the value of a (the coefficient of x2\n",
    "), b\n",
    "(the coefficient of x), and c (the constant term) and outputs the roots of the quadratic\n",
    "equation."
   ]
  },
  {
   "cell_type": "code",
   "execution_count": 3,
   "id": "f9326f4a-7b6a-4188-8517-84ba371d0bfc",
   "metadata": {},
   "outputs": [
    {
     "name": "stdin",
     "output_type": "stream",
     "text": [
      "Please provide value of a 2\n",
      "Please provide value of b 5\n",
      "Please provide value of c 6\n"
     ]
    },
    {
     "name": "stdout",
     "output_type": "stream",
     "text": [
      " The roots are (-1.25+1.1989578808281798j) and (-1.25-1.1989578808281798j)\n"
     ]
    }
   ],
   "source": [
    "import cmath\n",
    "import math\n",
    "def roots_of_equation(x1,x2,x3):\n",
    "    \n",
    "\n",
    "# calculating discriminant value\n",
    "    discriminant = x2 ** 2 - 4 * x1 * x3\n",
    "\n",
    "# checking if discriminant(b^2 -4ac) is < 0 ( have two complex roots)\n",
    "    if discriminant < 0:\n",
    "        roots_1 = (- x2 + cmath.sqrt(discriminant)) / (2 * x1)\n",
    "        roots_2 = (- x2 - cmath.sqrt(discriminant)) / (2 * x1)\n",
    "        return f\" The roots are {roots_1} and {roots_2}\"\n",
    "    elif discriminant == 0:\n",
    "        # Real and equal roots\n",
    "        root_1 = -x2 / (2*x1)\n",
    "        return root_1\n",
    "    else: \n",
    "        # if discriminant(b^2 -4ac) is > 0 ( have two real roots)\n",
    "        roots_1 = (- x2 + math.sqrt(discriminant)) / (2 * x1)\n",
    "        roots_2 = (- x2 - math.sqrt(discriminant)) / (2 * x1)\n",
    "        return f\" The roots are {round(roots_1,4)} and {round(roots_2,)}\"\n",
    "\n",
    "\n",
    "# taking value of a,b and c from user\n",
    "a = float(input(\"Please provide value of a\"))\n",
    "b = float(input(\"Please provide value of b\"))\n",
    "c = float(input(\"Please provide value of c\"))\n",
    "\n",
    "quadratic_equation= roots_of_equation(a,b,c)\n",
    "print(quadratic_equation)"
   ]
  },
  {
   "cell_type": "markdown",
   "id": "5b36e870-bbd3-4f4c-8578-87ef0c3d2d34",
   "metadata": {},
   "source": [
    "10. Write a program that prompts the user to enter three numbers and sorts them in\n",
    "ascending order. The program should print the sorted numbers."
   ]
  },
  {
   "cell_type": "code",
   "execution_count": 1,
   "id": "fb06b645-2ac6-4bf0-9f56-e49f165698c4",
   "metadata": {},
   "outputs": [
    {
     "name": "stdin",
     "output_type": "stream",
     "text": [
      "Please enter 3 values:  34,56,1\n"
     ]
    },
    {
     "name": "stdout",
     "output_type": "stream",
     "text": [
      "[1, 34, 56]\n"
     ]
    }
   ],
   "source": [
    "# taking a list of str and converting it into int list and then sorting the list in ascending order\n",
    "def sorted_numbers(three_numbers):\n",
    "    # checking if numbers entered by user are more than or less than3\n",
    "    if  len(three_numbers) > 3 or len(three_numbers) < 3:\n",
    "        return \"Invalid responce! Please enter exactly three numbers\"\n",
    "    else:\n",
    "        numbers = []  # creating an empty list to store str converted into int\n",
    "        for number in three_numbers:\n",
    "            num = int(number) # converting each value of the list into integer\n",
    "            numbers.append(num) # adding each converted value in the list\n",
    "        numbers.sort()    #sorting the list in ascending order\n",
    "    return numbers\n",
    "\n",
    "# taking user input\n",
    "user_input = input(\"Please enter 3 values: \").split(\",\")\n",
    "\n",
    "sorting_numbers = sorted_numbers(user_input)\n",
    "\n",
    "print(sorting_numbers)\n"
   ]
  },
  {
   "cell_type": "markdown",
   "id": "b3cc2f17-3f9e-41b2-977d-7525474e83ba",
   "metadata": {},
   "source": [
    "11. Write a program that prompts the user to input three integers and outputs the\n",
    "largest."
   ]
  },
  {
   "cell_type": "code",
   "execution_count": 40,
   "id": "73141691-9acd-4bdd-86a0-485d2cbc2b27",
   "metadata": {},
   "outputs": [
    {
     "name": "stdin",
     "output_type": "stream",
     "text": [
      "Please enter three integers:  3,1,2\n"
     ]
    },
    {
     "name": "stdout",
     "output_type": "stream",
     "text": [
      "3\n"
     ]
    }
   ],
   "source": [
    "def largest_int(three_integers):\n",
    "    largest_num = 0\n",
    "    #checking if integers entered by user are more than or less than 3\n",
    "    if len(three_integers) > 3 or len(three_integers) < 3 :\n",
    "        return \"Invalid responce! Please enter exactly three integers\"\n",
    "    else:\n",
    "        for integer in three_integers: \n",
    "            num = int(integer)  # converting each value into int and storing in num variable\n",
    "            if num > largest_num: # checking if each value of list is greaterthan largest_num\n",
    "                largest_num = num # assigning largest int to largest number\n",
    "            else:\n",
    "                largest_num\n",
    "\n",
    "    return largest_num\n",
    "\n",
    "# using split to take multiple inputs from users with comma separator\n",
    "integers = input(\"Please enter three integers: \").split(\",\") \n",
    "largest = largest_int(integers)\n",
    "\n",
    "print(largest)"
   ]
  },
  {
   "cell_type": "markdown",
   "id": "c9b3e2d3-3984-4bf7-ac96-11d07d3549a2",
   "metadata": {},
   "source": [
    "12. Write a program that prompts the user to input a character and determine the\n",
    "character is vowel or consonant."
   ]
  },
  {
   "cell_type": "code",
   "execution_count": 10,
   "id": "3f0f1f7e-0e00-4200-8e38-2f66c04b76f9",
   "metadata": {},
   "outputs": [
    {
     "name": "stdin",
     "output_type": "stream",
     "text": [
      "Please enter an alphabet A\n"
     ]
    },
    {
     "name": "stdout",
     "output_type": "stream",
     "text": [
      "A is a vowel\n"
     ]
    }
   ],
   "source": [
    "character = input(\"Please enter an alphabet\")\n",
    "\n",
    "if character in (\"a,e,i,o,u\") or character in (\"A,E,I,O,U\"):\n",
    "    print(f\"{character} is a vowel\")\n",
    "else:\n",
    "    print(f\"{character} is a constant\")"
   ]
  },
  {
   "cell_type": "markdown",
   "id": "142af3b2-f551-4672-a520-2b17ff4a3cb0",
   "metadata": {},
   "source": [
    "13. Write a program that prompts the user to input a year and determine whether the\n",
    "year is a leap year or not.\n",
    "Leap Years are any year that can be evenly divided by 4. A year that is evenly divisible by\n",
    "100 is a leap year only if it is also evenly divisible by 400. Example:\n",
    "    \n",
    "- 1992 Leap Year\n",
    "- 2000 Leap Year\n",
    "- 1900 NOT a Leap Year\n",
    "- 1995 NOT a Leap Year"
   ]
  },
  {
   "cell_type": "code",
   "execution_count": 36,
   "id": "770494a6-9c69-4608-94be-1f7c28c4455c",
   "metadata": {},
   "outputs": [
    {
     "name": "stdin",
     "output_type": "stream",
     "text": [
      "Please enter the year 1998\n"
     ]
    },
    {
     "name": "stdout",
     "output_type": "stream",
     "text": [
      "1998 is not a leap year\n"
     ]
    }
   ],
   "source": [
    "def leap_year(a):\n",
    "    if a % 4 == 0:\n",
    "        return f\"{a} is a leap year\"\n",
    "\n",
    "    else:\n",
    "        return f\"{a} is not a leap year\"\n",
    "\n",
    "\n",
    "year = int(input(\"Please enter the year\"))\n",
    "year_leap = leap_year(year)\n",
    "print(year_leap)"
   ]
  },
  {
   "cell_type": "markdown",
   "id": "127e2c51-3225-432a-8b0e-89e05c78851f",
   "metadata": {},
   "source": [
    "14. Write a program that prompts the user to input number of calls and calculate the\n",
    "monthly telephone bills as per the following rule:\n",
    "Minimum Rs. 200 for up to 100 calls.\n",
    "Plus Rs. 0.60 per call for next 50 calls.\n",
    "Plus Rs. 0.50 per call for next 50 calls.\n",
    "Plus Rs. 0.40 per call for any call beyond 200 calls."
   ]
  },
  {
   "cell_type": "code",
   "execution_count": 47,
   "id": "1667ca80-f869-4cc2-951c-8872d5e00acb",
   "metadata": {},
   "outputs": [
    {
     "name": "stdin",
     "output_type": "stream",
     "text": [
      "Please enter number of calls for the month 156\n"
     ]
    },
    {
     "name": "stdout",
     "output_type": "stream",
     "text": [
      "278.0\n"
     ]
    }
   ],
   "source": [
    "def monthly_bills(call):\n",
    "    minimum_price = 200\n",
    "    if call <= 100:\n",
    "        return minimum_price\n",
    "    elif call <= 150:\n",
    "        total_after = 0.60 * call\n",
    "        return minimum_price + total_after\n",
    "    elif call <= 200:\n",
    "        total_after = 0.50 * call\n",
    "        return minimum_price + total_after\n",
    "    else:\n",
    "        total_after = 0.40 * call\n",
    "        return minimum_price + total_after\n",
    "\n",
    "calls_per_month = int(input(\"Please enter number of calls for the month\"))\n",
    "total = monthly_bills(calls_per_month)\n",
    "print(total)"
   ]
  },
  {
   "cell_type": "code",
   "execution_count": null,
   "id": "6ca14427-95aa-4b82-9646-40f494fe9c3d",
   "metadata": {},
   "outputs": [],
   "source": []
  }
 ],
 "metadata": {
  "kernelspec": {
   "display_name": "Python 3 (ipykernel)",
   "language": "python",
   "name": "python3"
  },
  "language_info": {
   "codemirror_mode": {
    "name": "ipython",
    "version": 3
   },
   "file_extension": ".py",
   "mimetype": "text/x-python",
   "name": "python",
   "nbconvert_exporter": "python",
   "pygments_lexer": "ipython3",
   "version": "3.12.7"
  }
 },
 "nbformat": 4,
 "nbformat_minor": 5
}
